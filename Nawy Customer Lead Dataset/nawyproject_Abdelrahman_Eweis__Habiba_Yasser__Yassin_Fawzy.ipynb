{
 "cells": [
  {
   "cell_type": "code",
   "execution_count": 1,
   "metadata": {},
   "outputs": [],
   "source": [
    "import pandas as pd\n",
    "import matplotlib.pyplot as plt\n",
    "import seaborn as sns"
   ]
  },
  {
   "attachments": {},
   "cell_type": "markdown",
   "metadata": {},
   "source": [
    "<h1>Data Pre-processing and EDA</h1>"
   ]
  },
  {
   "cell_type": "code",
   "execution_count": 2,
   "metadata": {},
   "outputs": [
    {
     "name": "stderr",
     "output_type": "stream",
     "text": [
      "C:\\Users\\a_rah\\AppData\\Local\\Temp\\ipykernel_1420\\582462624.py:1: DtypeWarning: Columns (2) have mixed types. Specify dtype option on import or set low_memory=False.\n",
      "  df = pd.read_csv('user_behaviour.csv')\n"
     ]
    }
   ],
   "source": [
    "df = pd.read_csv('user_behaviour.csv')"
   ]
  },
  {
   "cell_type": "code",
   "execution_count": 3,
   "metadata": {},
   "outputs": [
    {
     "data": {
      "text/html": [
       "<div>\n",
       "<style scoped>\n",
       "    .dataframe tbody tr th:only-of-type {\n",
       "        vertical-align: middle;\n",
       "    }\n",
       "\n",
       "    .dataframe tbody tr th {\n",
       "        vertical-align: top;\n",
       "    }\n",
       "\n",
       "    .dataframe thead th {\n",
       "        text-align: right;\n",
       "    }\n",
       "</style>\n",
       "<table border=\"1\" class=\"dataframe\">\n",
       "  <thead>\n",
       "    <tr style=\"text-align: right;\">\n",
       "      <th></th>\n",
       "      <th>event_date</th>\n",
       "      <th>event_timestamp_date</th>\n",
       "      <th>user_psuedo_id</th>\n",
       "      <th>unique_session_id</th>\n",
       "      <th>event_name</th>\n",
       "      <th>event_location</th>\n",
       "      <th>action</th>\n",
       "      <th>sort</th>\n",
       "      <th>page_location</th>\n",
       "      <th>page_location.1</th>\n",
       "      <th>...</th>\n",
       "      <th>category</th>\n",
       "      <th>mobile_brand_name</th>\n",
       "      <th>mobile_model_name</th>\n",
       "      <th>operating_system</th>\n",
       "      <th>operating_system_version</th>\n",
       "      <th>device_language</th>\n",
       "      <th>web_info_browser</th>\n",
       "      <th>country</th>\n",
       "      <th>region</th>\n",
       "      <th>is_lead</th>\n",
       "    </tr>\n",
       "  </thead>\n",
       "  <tbody>\n",
       "    <tr>\n",
       "      <th>0</th>\n",
       "      <td>2023-02-01</td>\n",
       "      <td>2023-01-31 23:46:15.546</td>\n",
       "      <td>319318615.167521</td>\n",
       "      <td>319318615.1675208771-1675208774</td>\n",
       "      <td>first_visit</td>\n",
       "      <td>NaN</td>\n",
       "      <td>NaN</td>\n",
       "      <td>NaN</td>\n",
       "      <td>https://www.nawy.com/compound/274-zed-el-sheik...</td>\n",
       "      <td>https://www.nawy.com/compound/274-zed-el-sheik...</td>\n",
       "      <td>...</td>\n",
       "      <td>mobile</td>\n",
       "      <td>Realme</td>\n",
       "      <td>RMX1941</td>\n",
       "      <td>Android</td>\n",
       "      <td>Android 9</td>\n",
       "      <td>en</td>\n",
       "      <td>Chrome</td>\n",
       "      <td>Egypt</td>\n",
       "      <td>Giza Governorate</td>\n",
       "      <td>0</td>\n",
       "    </tr>\n",
       "    <tr>\n",
       "      <th>1</th>\n",
       "      <td>2023-02-01</td>\n",
       "      <td>2023-01-31 23:46:15.546</td>\n",
       "      <td>319318615.167521</td>\n",
       "      <td>319318615.1675208771-1675208774</td>\n",
       "      <td>page_view</td>\n",
       "      <td>NaN</td>\n",
       "      <td>NaN</td>\n",
       "      <td>NaN</td>\n",
       "      <td>https://www.nawy.com/compound/274-zed-el-sheik...</td>\n",
       "      <td>https://www.nawy.com/compound/274-zed-el-sheik...</td>\n",
       "      <td>...</td>\n",
       "      <td>mobile</td>\n",
       "      <td>Realme</td>\n",
       "      <td>RMX1941</td>\n",
       "      <td>Android</td>\n",
       "      <td>Android 9</td>\n",
       "      <td>en</td>\n",
       "      <td>Chrome</td>\n",
       "      <td>Egypt</td>\n",
       "      <td>Giza Governorate</td>\n",
       "      <td>0</td>\n",
       "    </tr>\n",
       "    <tr>\n",
       "      <th>2</th>\n",
       "      <td>2023-02-01</td>\n",
       "      <td>2023-01-31 23:46:15.546</td>\n",
       "      <td>319318615.167521</td>\n",
       "      <td>319318615.1675208771-1675208774</td>\n",
       "      <td>session_start</td>\n",
       "      <td>NaN</td>\n",
       "      <td>NaN</td>\n",
       "      <td>NaN</td>\n",
       "      <td>https://www.nawy.com/compound/274-zed-el-sheik...</td>\n",
       "      <td>https://www.nawy.com/compound/274-zed-el-sheik...</td>\n",
       "      <td>...</td>\n",
       "      <td>mobile</td>\n",
       "      <td>Realme</td>\n",
       "      <td>RMX1941</td>\n",
       "      <td>Android</td>\n",
       "      <td>Android 9</td>\n",
       "      <td>en</td>\n",
       "      <td>Chrome</td>\n",
       "      <td>Egypt</td>\n",
       "      <td>Giza Governorate</td>\n",
       "      <td>0</td>\n",
       "    </tr>\n",
       "    <tr>\n",
       "      <th>3</th>\n",
       "      <td>2023-02-01</td>\n",
       "      <td>2023-01-31 23:46:26.895</td>\n",
       "      <td>319318615.167521</td>\n",
       "      <td>319318615.1675208771-1675208774</td>\n",
       "      <td>page_view</td>\n",
       "      <td>NaN</td>\n",
       "      <td>NaN</td>\n",
       "      <td>NaN</td>\n",
       "      <td>https://www.nawy.com/compound/274-zed-el-sheik...</td>\n",
       "      <td>https://www.nawy.com/compound/274-zed-el-sheik...</td>\n",
       "      <td>...</td>\n",
       "      <td>mobile</td>\n",
       "      <td>Realme</td>\n",
       "      <td>RMX1941</td>\n",
       "      <td>Android</td>\n",
       "      <td>Android 9</td>\n",
       "      <td>en</td>\n",
       "      <td>Chrome</td>\n",
       "      <td>Egypt</td>\n",
       "      <td>Giza Governorate</td>\n",
       "      <td>0</td>\n",
       "    </tr>\n",
       "    <tr>\n",
       "      <th>4</th>\n",
       "      <td>2023-02-11</td>\n",
       "      <td>2023-02-11 13:17:55.285</td>\n",
       "      <td>319345731.167612</td>\n",
       "      <td>319345731.1676121475-1676121475</td>\n",
       "      <td>first_visit</td>\n",
       "      <td>NaN</td>\n",
       "      <td>NaN</td>\n",
       "      <td>NaN</td>\n",
       "      <td>https://www.nawy.com/compound/260-v-residences...</td>\n",
       "      <td>https://www.nawy.com/compound/260-v-residences...</td>\n",
       "      <td>...</td>\n",
       "      <td>mobile</td>\n",
       "      <td>Apple</td>\n",
       "      <td>iPhone</td>\n",
       "      <td>iOS</td>\n",
       "      <td>iOS 16.1.1</td>\n",
       "      <td>en</td>\n",
       "      <td>Safari</td>\n",
       "      <td>Egypt</td>\n",
       "      <td>Alexandria Governorate</td>\n",
       "      <td>0</td>\n",
       "    </tr>\n",
       "  </tbody>\n",
       "</table>\n",
       "<p>5 rows × 27 columns</p>\n",
       "</div>"
      ],
      "text/plain": [
       "   event_date     event_timestamp_date    user_psuedo_id  \\\n",
       "0  2023-02-01  2023-01-31 23:46:15.546  319318615.167521   \n",
       "1  2023-02-01  2023-01-31 23:46:15.546  319318615.167521   \n",
       "2  2023-02-01  2023-01-31 23:46:15.546  319318615.167521   \n",
       "3  2023-02-01  2023-01-31 23:46:26.895  319318615.167521   \n",
       "4  2023-02-11  2023-02-11 13:17:55.285  319345731.167612   \n",
       "\n",
       "                 unique_session_id     event_name event_location action sort  \\\n",
       "0  319318615.1675208771-1675208774    first_visit            NaN    NaN  NaN   \n",
       "1  319318615.1675208771-1675208774      page_view            NaN    NaN  NaN   \n",
       "2  319318615.1675208771-1675208774  session_start            NaN    NaN  NaN   \n",
       "3  319318615.1675208771-1675208774      page_view            NaN    NaN  NaN   \n",
       "4  319345731.1676121475-1676121475    first_visit            NaN    NaN  NaN   \n",
       "\n",
       "                                       page_location  \\\n",
       "0  https://www.nawy.com/compound/274-zed-el-sheik...   \n",
       "1  https://www.nawy.com/compound/274-zed-el-sheik...   \n",
       "2  https://www.nawy.com/compound/274-zed-el-sheik...   \n",
       "3  https://www.nawy.com/compound/274-zed-el-sheik...   \n",
       "4  https://www.nawy.com/compound/260-v-residences...   \n",
       "\n",
       "                                     page_location.1  ... category  \\\n",
       "0  https://www.nawy.com/compound/274-zed-el-sheik...  ...   mobile   \n",
       "1  https://www.nawy.com/compound/274-zed-el-sheik...  ...   mobile   \n",
       "2  https://www.nawy.com/compound/274-zed-el-sheik...  ...   mobile   \n",
       "3  https://www.nawy.com/compound/274-zed-el-sheik...  ...   mobile   \n",
       "4  https://www.nawy.com/compound/260-v-residences...  ...   mobile   \n",
       "\n",
       "  mobile_brand_name mobile_model_name operating_system  \\\n",
       "0            Realme           RMX1941          Android   \n",
       "1            Realme           RMX1941          Android   \n",
       "2            Realme           RMX1941          Android   \n",
       "3            Realme           RMX1941          Android   \n",
       "4             Apple            iPhone              iOS   \n",
       "\n",
       "  operating_system_version device_language web_info_browser country  \\\n",
       "0                Android 9              en           Chrome   Egypt   \n",
       "1                Android 9              en           Chrome   Egypt   \n",
       "2                Android 9              en           Chrome   Egypt   \n",
       "3                Android 9              en           Chrome   Egypt   \n",
       "4               iOS 16.1.1              en           Safari   Egypt   \n",
       "\n",
       "                   region is_lead  \n",
       "0        Giza Governorate       0  \n",
       "1        Giza Governorate       0  \n",
       "2        Giza Governorate       0  \n",
       "3        Giza Governorate       0  \n",
       "4  Alexandria Governorate       0  \n",
       "\n",
       "[5 rows x 27 columns]"
      ]
     },
     "execution_count": 3,
     "metadata": {},
     "output_type": "execute_result"
    }
   ],
   "source": [
    "df.head()"
   ]
  },
  {
   "cell_type": "code",
   "execution_count": 4,
   "metadata": {},
   "outputs": [
    {
     "data": {
      "text/html": [
       "<div>\n",
       "<style scoped>\n",
       "    .dataframe tbody tr th:only-of-type {\n",
       "        vertical-align: middle;\n",
       "    }\n",
       "\n",
       "    .dataframe tbody tr th {\n",
       "        vertical-align: top;\n",
       "    }\n",
       "\n",
       "    .dataframe thead th {\n",
       "        text-align: right;\n",
       "    }\n",
       "</style>\n",
       "<table border=\"1\" class=\"dataframe\">\n",
       "  <thead>\n",
       "    <tr style=\"text-align: right;\">\n",
       "      <th></th>\n",
       "      <th>event_date</th>\n",
       "      <th>event_timestamp_date</th>\n",
       "      <th>user_psuedo_id</th>\n",
       "      <th>unique_session_id</th>\n",
       "      <th>event_name</th>\n",
       "      <th>event_location</th>\n",
       "      <th>action</th>\n",
       "      <th>sort</th>\n",
       "      <th>page_location</th>\n",
       "      <th>page_location.1</th>\n",
       "      <th>...</th>\n",
       "      <th>category</th>\n",
       "      <th>mobile_brand_name</th>\n",
       "      <th>mobile_model_name</th>\n",
       "      <th>operating_system</th>\n",
       "      <th>operating_system_version</th>\n",
       "      <th>device_language</th>\n",
       "      <th>web_info_browser</th>\n",
       "      <th>country</th>\n",
       "      <th>region</th>\n",
       "      <th>is_lead</th>\n",
       "    </tr>\n",
       "  </thead>\n",
       "  <tbody>\n",
       "    <tr>\n",
       "      <th>2016958</th>\n",
       "      <td>2023-03-03</td>\n",
       "      <td>2023-03-03 08:19:54.697</td>\n",
       "      <td>319317481.167535</td>\n",
       "      <td>319317481.1675348905-1677831594</td>\n",
       "      <td>page_view</td>\n",
       "      <td>NaN</td>\n",
       "      <td>NaN</td>\n",
       "      <td>NaN</td>\n",
       "      <td>https://www.nawy.com/compound/423-mountain-vie...</td>\n",
       "      <td>https://www.nawy.com/compound/423-mountain-vie...</td>\n",
       "      <td>...</td>\n",
       "      <td>desktop</td>\n",
       "      <td>Google</td>\n",
       "      <td>Chrome</td>\n",
       "      <td>Windows</td>\n",
       "      <td>Windows 10</td>\n",
       "      <td>en</td>\n",
       "      <td>Chrome</td>\n",
       "      <td>United Arab Emirates</td>\n",
       "      <td>Dubai</td>\n",
       "      <td>0</td>\n",
       "    </tr>\n",
       "    <tr>\n",
       "      <th>2016959</th>\n",
       "      <td>2023-03-03</td>\n",
       "      <td>2023-03-03 08:19:54.697</td>\n",
       "      <td>319317481.167535</td>\n",
       "      <td>319317481.1675348905-1677831594</td>\n",
       "      <td>session_start</td>\n",
       "      <td>NaN</td>\n",
       "      <td>NaN</td>\n",
       "      <td>NaN</td>\n",
       "      <td>https://www.nawy.com/compound/423-mountain-vie...</td>\n",
       "      <td>https://www.nawy.com/compound/423-mountain-vie...</td>\n",
       "      <td>...</td>\n",
       "      <td>desktop</td>\n",
       "      <td>Google</td>\n",
       "      <td>Chrome</td>\n",
       "      <td>Windows</td>\n",
       "      <td>Windows 10</td>\n",
       "      <td>en</td>\n",
       "      <td>Chrome</td>\n",
       "      <td>United Arab Emirates</td>\n",
       "      <td>Dubai</td>\n",
       "      <td>0</td>\n",
       "    </tr>\n",
       "    <tr>\n",
       "      <th>2016960</th>\n",
       "      <td>2023-03-03</td>\n",
       "      <td>2023-03-03 08:20:05.757</td>\n",
       "      <td>319317481.167535</td>\n",
       "      <td>319317481.1675348905-1677831594</td>\n",
       "      <td>click</td>\n",
       "      <td>compound</td>\n",
       "      <td>view Masterplan</td>\n",
       "      <td>NaN</td>\n",
       "      <td>https://www.nawy.com/compound/423-mountain-vie...</td>\n",
       "      <td>https://www.nawy.com/compound/423-mountain-vie...</td>\n",
       "      <td>...</td>\n",
       "      <td>desktop</td>\n",
       "      <td>Google</td>\n",
       "      <td>Chrome</td>\n",
       "      <td>Windows</td>\n",
       "      <td>Windows 10</td>\n",
       "      <td>en</td>\n",
       "      <td>Chrome</td>\n",
       "      <td>United Arab Emirates</td>\n",
       "      <td>Dubai</td>\n",
       "      <td>0</td>\n",
       "    </tr>\n",
       "    <tr>\n",
       "      <th>2016961</th>\n",
       "      <td>2023-03-03</td>\n",
       "      <td>2023-03-03 08:20:21.780</td>\n",
       "      <td>319317481.167535</td>\n",
       "      <td>319317481.1675348905-1677831594</td>\n",
       "      <td>page_view</td>\n",
       "      <td>NaN</td>\n",
       "      <td>NaN</td>\n",
       "      <td>NaN</td>\n",
       "      <td>https://www.nawy.com/compound/423-mountain-vie...</td>\n",
       "      <td>https://www.nawy.com/compound/423-mountain-vie...</td>\n",
       "      <td>...</td>\n",
       "      <td>desktop</td>\n",
       "      <td>Google</td>\n",
       "      <td>Chrome</td>\n",
       "      <td>Windows</td>\n",
       "      <td>Windows 10</td>\n",
       "      <td>en</td>\n",
       "      <td>Chrome</td>\n",
       "      <td>United Arab Emirates</td>\n",
       "      <td>Dubai</td>\n",
       "      <td>0</td>\n",
       "    </tr>\n",
       "    <tr>\n",
       "      <th>2016962</th>\n",
       "      <td>2023-03-03</td>\n",
       "      <td>2023-03-03 08:20:42.075</td>\n",
       "      <td>319317481.167535</td>\n",
       "      <td>319317481.1675348905-1677831594</td>\n",
       "      <td>click</td>\n",
       "      <td>property</td>\n",
       "      <td>view image</td>\n",
       "      <td>NaN</td>\n",
       "      <td>https://www.nawy.com/compound/423-mountain-vie...</td>\n",
       "      <td>https://www.nawy.com/compound/423-mountain-vie...</td>\n",
       "      <td>...</td>\n",
       "      <td>desktop</td>\n",
       "      <td>Google</td>\n",
       "      <td>Chrome</td>\n",
       "      <td>Windows</td>\n",
       "      <td>Windows 10</td>\n",
       "      <td>en</td>\n",
       "      <td>Chrome</td>\n",
       "      <td>United Arab Emirates</td>\n",
       "      <td>Dubai</td>\n",
       "      <td>0</td>\n",
       "    </tr>\n",
       "  </tbody>\n",
       "</table>\n",
       "<p>5 rows × 27 columns</p>\n",
       "</div>"
      ],
      "text/plain": [
       "         event_date     event_timestamp_date    user_psuedo_id  \\\n",
       "2016958  2023-03-03  2023-03-03 08:19:54.697  319317481.167535   \n",
       "2016959  2023-03-03  2023-03-03 08:19:54.697  319317481.167535   \n",
       "2016960  2023-03-03  2023-03-03 08:20:05.757  319317481.167535   \n",
       "2016961  2023-03-03  2023-03-03 08:20:21.780  319317481.167535   \n",
       "2016962  2023-03-03  2023-03-03 08:20:42.075  319317481.167535   \n",
       "\n",
       "                       unique_session_id     event_name event_location  \\\n",
       "2016958  319317481.1675348905-1677831594      page_view            NaN   \n",
       "2016959  319317481.1675348905-1677831594  session_start            NaN   \n",
       "2016960  319317481.1675348905-1677831594          click       compound   \n",
       "2016961  319317481.1675348905-1677831594      page_view            NaN   \n",
       "2016962  319317481.1675348905-1677831594          click       property   \n",
       "\n",
       "                  action sort  \\\n",
       "2016958              NaN  NaN   \n",
       "2016959              NaN  NaN   \n",
       "2016960  view Masterplan  NaN   \n",
       "2016961              NaN  NaN   \n",
       "2016962       view image  NaN   \n",
       "\n",
       "                                             page_location  \\\n",
       "2016958  https://www.nawy.com/compound/423-mountain-vie...   \n",
       "2016959  https://www.nawy.com/compound/423-mountain-vie...   \n",
       "2016960  https://www.nawy.com/compound/423-mountain-vie...   \n",
       "2016961  https://www.nawy.com/compound/423-mountain-vie...   \n",
       "2016962  https://www.nawy.com/compound/423-mountain-vie...   \n",
       "\n",
       "                                           page_location.1  ... category  \\\n",
       "2016958  https://www.nawy.com/compound/423-mountain-vie...  ...  desktop   \n",
       "2016959  https://www.nawy.com/compound/423-mountain-vie...  ...  desktop   \n",
       "2016960  https://www.nawy.com/compound/423-mountain-vie...  ...  desktop   \n",
       "2016961  https://www.nawy.com/compound/423-mountain-vie...  ...  desktop   \n",
       "2016962  https://www.nawy.com/compound/423-mountain-vie...  ...  desktop   \n",
       "\n",
       "        mobile_brand_name mobile_model_name operating_system  \\\n",
       "2016958            Google            Chrome          Windows   \n",
       "2016959            Google            Chrome          Windows   \n",
       "2016960            Google            Chrome          Windows   \n",
       "2016961            Google            Chrome          Windows   \n",
       "2016962            Google            Chrome          Windows   \n",
       "\n",
       "        operating_system_version device_language web_info_browser  \\\n",
       "2016958               Windows 10              en           Chrome   \n",
       "2016959               Windows 10              en           Chrome   \n",
       "2016960               Windows 10              en           Chrome   \n",
       "2016961               Windows 10              en           Chrome   \n",
       "2016962               Windows 10              en           Chrome   \n",
       "\n",
       "                      country region is_lead  \n",
       "2016958  United Arab Emirates  Dubai       0  \n",
       "2016959  United Arab Emirates  Dubai       0  \n",
       "2016960  United Arab Emirates  Dubai       0  \n",
       "2016961  United Arab Emirates  Dubai       0  \n",
       "2016962  United Arab Emirates  Dubai       0  \n",
       "\n",
       "[5 rows x 27 columns]"
      ]
     },
     "execution_count": 4,
     "metadata": {},
     "output_type": "execute_result"
    }
   ],
   "source": [
    "df.tail()"
   ]
  },
  {
   "cell_type": "code",
   "execution_count": 5,
   "metadata": {},
   "outputs": [
    {
     "name": "stdout",
     "output_type": "stream",
     "text": [
      "<class 'pandas.core.frame.DataFrame'>\n",
      "RangeIndex: 2016963 entries, 0 to 2016962\n",
      "Data columns (total 27 columns):\n",
      " #   Column                    Dtype \n",
      "---  ------                    ----- \n",
      " 0   event_date                object\n",
      " 1   event_timestamp_date      object\n",
      " 2   user_psuedo_id            object\n",
      " 3   unique_session_id         object\n",
      " 4   event_name                object\n",
      " 5   event_location            object\n",
      " 6   action                    object\n",
      " 7   sort                      object\n",
      " 8   page_location             object\n",
      " 9   page_location.1           object\n",
      " 10  filters                   object\n",
      " 11  recommended               object\n",
      " 12  card_details              object\n",
      " 13  campaign                  object\n",
      " 14  traffic_source_name       object\n",
      " 15  traffic_source_source     object\n",
      " 16  traffic_source_medium     object\n",
      " 17  category                  object\n",
      " 18  mobile_brand_name         object\n",
      " 19  mobile_model_name         object\n",
      " 20  operating_system          object\n",
      " 21  operating_system_version  object\n",
      " 22  device_language           object\n",
      " 23  web_info_browser          object\n",
      " 24  country                   object\n",
      " 25  region                    object\n",
      " 26  is_lead                   int64 \n",
      "dtypes: int64(1), object(26)\n",
      "memory usage: 415.5+ MB\n"
     ]
    }
   ],
   "source": [
    "df.info()"
   ]
  },
  {
   "cell_type": "code",
   "execution_count": 6,
   "metadata": {},
   "outputs": [
    {
     "data": {
      "text/plain": [
       "0    1990674\n",
       "1      26289\n",
       "Name: is_lead, dtype: int64"
      ]
     },
     "execution_count": 6,
     "metadata": {},
     "output_type": "execute_result"
    }
   ],
   "source": [
    "df['is_lead'].value_counts()"
   ]
  },
  {
   "cell_type": "code",
   "execution_count": 7,
   "metadata": {},
   "outputs": [
    {
     "data": {
      "text/plain": [
       "event_date                        0\n",
       "event_timestamp_date              0\n",
       "user_psuedo_id                    0\n",
       "unique_session_id                 0\n",
       "event_name                        0\n",
       "event_location              1611630\n",
       "action                      1556029\n",
       "sort                        2005668\n",
       "page_location                   193\n",
       "page_location.1                 193\n",
       "filters                     1927917\n",
       "recommended                 1908312\n",
       "card_details                1885504\n",
       "campaign                    1499339\n",
       "traffic_source_name           62719\n",
       "traffic_source_source            69\n",
       "traffic_source_medium           499\n",
       "category                          0\n",
       "mobile_brand_name              8864\n",
       "mobile_model_name              8864\n",
       "operating_system                 56\n",
       "operating_system_version          0\n",
       "device_language                   0\n",
       "web_info_browser                 62\n",
       "country                         178\n",
       "region                        34935\n",
       "is_lead                           0\n",
       "dtype: int64"
      ]
     },
     "execution_count": 7,
     "metadata": {},
     "output_type": "execute_result"
    }
   ],
   "source": [
    "df.isnull().sum()"
   ]
  },
  {
   "attachments": {},
   "cell_type": "markdown",
   "metadata": {},
   "source": [
    "as a start we feel that there is no need for the event date and time stamp as they will serve no informational service for the model to use"
   ]
  },
  {
   "attachments": {},
   "cell_type": "markdown",
   "metadata": {},
   "source": [
    "All columns with over a million null values will also be dropped as they will affect the accuracy and predictions of the model very intensely"
   ]
  },
  {
   "cell_type": "code",
   "execution_count": 8,
   "metadata": {},
   "outputs": [
    {
     "data": {
      "text/html": [
       "<div>\n",
       "<style scoped>\n",
       "    .dataframe tbody tr th:only-of-type {\n",
       "        vertical-align: middle;\n",
       "    }\n",
       "\n",
       "    .dataframe tbody tr th {\n",
       "        vertical-align: top;\n",
       "    }\n",
       "\n",
       "    .dataframe thead th {\n",
       "        text-align: right;\n",
       "    }\n",
       "</style>\n",
       "<table border=\"1\" class=\"dataframe\">\n",
       "  <thead>\n",
       "    <tr style=\"text-align: right;\">\n",
       "      <th></th>\n",
       "      <th>user_psuedo_id</th>\n",
       "      <th>unique_session_id</th>\n",
       "      <th>event_name</th>\n",
       "      <th>page_location</th>\n",
       "      <th>page_location.1</th>\n",
       "      <th>traffic_source_name</th>\n",
       "      <th>traffic_source_source</th>\n",
       "      <th>traffic_source_medium</th>\n",
       "      <th>category</th>\n",
       "      <th>mobile_brand_name</th>\n",
       "      <th>mobile_model_name</th>\n",
       "      <th>operating_system</th>\n",
       "      <th>operating_system_version</th>\n",
       "      <th>device_language</th>\n",
       "      <th>web_info_browser</th>\n",
       "      <th>country</th>\n",
       "      <th>region</th>\n",
       "      <th>is_lead</th>\n",
       "    </tr>\n",
       "  </thead>\n",
       "  <tbody>\n",
       "    <tr>\n",
       "      <th>0</th>\n",
       "      <td>319318615.167521</td>\n",
       "      <td>319318615.1675208771-1675208774</td>\n",
       "      <td>first_visit</td>\n",
       "      <td>https://www.nawy.com/compound/274-zed-el-sheik...</td>\n",
       "      <td>https://www.nawy.com/compound/274-zed-el-sheik...</td>\n",
       "      <td>(direct)</td>\n",
       "      <td>(direct)</td>\n",
       "      <td>(none)</td>\n",
       "      <td>mobile</td>\n",
       "      <td>Realme</td>\n",
       "      <td>RMX1941</td>\n",
       "      <td>Android</td>\n",
       "      <td>Android 9</td>\n",
       "      <td>en</td>\n",
       "      <td>Chrome</td>\n",
       "      <td>Egypt</td>\n",
       "      <td>Giza Governorate</td>\n",
       "      <td>0</td>\n",
       "    </tr>\n",
       "    <tr>\n",
       "      <th>1</th>\n",
       "      <td>319318615.167521</td>\n",
       "      <td>319318615.1675208771-1675208774</td>\n",
       "      <td>page_view</td>\n",
       "      <td>https://www.nawy.com/compound/274-zed-el-sheik...</td>\n",
       "      <td>https://www.nawy.com/compound/274-zed-el-sheik...</td>\n",
       "      <td>(direct)</td>\n",
       "      <td>(direct)</td>\n",
       "      <td>(none)</td>\n",
       "      <td>mobile</td>\n",
       "      <td>Realme</td>\n",
       "      <td>RMX1941</td>\n",
       "      <td>Android</td>\n",
       "      <td>Android 9</td>\n",
       "      <td>en</td>\n",
       "      <td>Chrome</td>\n",
       "      <td>Egypt</td>\n",
       "      <td>Giza Governorate</td>\n",
       "      <td>0</td>\n",
       "    </tr>\n",
       "    <tr>\n",
       "      <th>2</th>\n",
       "      <td>319318615.167521</td>\n",
       "      <td>319318615.1675208771-1675208774</td>\n",
       "      <td>session_start</td>\n",
       "      <td>https://www.nawy.com/compound/274-zed-el-sheik...</td>\n",
       "      <td>https://www.nawy.com/compound/274-zed-el-sheik...</td>\n",
       "      <td>(direct)</td>\n",
       "      <td>(direct)</td>\n",
       "      <td>(none)</td>\n",
       "      <td>mobile</td>\n",
       "      <td>Realme</td>\n",
       "      <td>RMX1941</td>\n",
       "      <td>Android</td>\n",
       "      <td>Android 9</td>\n",
       "      <td>en</td>\n",
       "      <td>Chrome</td>\n",
       "      <td>Egypt</td>\n",
       "      <td>Giza Governorate</td>\n",
       "      <td>0</td>\n",
       "    </tr>\n",
       "    <tr>\n",
       "      <th>3</th>\n",
       "      <td>319318615.167521</td>\n",
       "      <td>319318615.1675208771-1675208774</td>\n",
       "      <td>page_view</td>\n",
       "      <td>https://www.nawy.com/compound/274-zed-el-sheik...</td>\n",
       "      <td>https://www.nawy.com/compound/274-zed-el-sheik...</td>\n",
       "      <td>(direct)</td>\n",
       "      <td>(direct)</td>\n",
       "      <td>(none)</td>\n",
       "      <td>mobile</td>\n",
       "      <td>Realme</td>\n",
       "      <td>RMX1941</td>\n",
       "      <td>Android</td>\n",
       "      <td>Android 9</td>\n",
       "      <td>en</td>\n",
       "      <td>Chrome</td>\n",
       "      <td>Egypt</td>\n",
       "      <td>Giza Governorate</td>\n",
       "      <td>0</td>\n",
       "    </tr>\n",
       "    <tr>\n",
       "      <th>4</th>\n",
       "      <td>319345731.167612</td>\n",
       "      <td>319345731.1676121475-1676121475</td>\n",
       "      <td>first_visit</td>\n",
       "      <td>https://www.nawy.com/compound/260-v-residences...</td>\n",
       "      <td>https://www.nawy.com/compound/260-v-residences...</td>\n",
       "      <td>Dynamic_Targeting_-_Zeina</td>\n",
       "      <td>google</td>\n",
       "      <td>cpc</td>\n",
       "      <td>mobile</td>\n",
       "      <td>Apple</td>\n",
       "      <td>iPhone</td>\n",
       "      <td>iOS</td>\n",
       "      <td>iOS 16.1.1</td>\n",
       "      <td>en</td>\n",
       "      <td>Safari</td>\n",
       "      <td>Egypt</td>\n",
       "      <td>Alexandria Governorate</td>\n",
       "      <td>0</td>\n",
       "    </tr>\n",
       "  </tbody>\n",
       "</table>\n",
       "</div>"
      ],
      "text/plain": [
       "     user_psuedo_id                unique_session_id     event_name  \\\n",
       "0  319318615.167521  319318615.1675208771-1675208774    first_visit   \n",
       "1  319318615.167521  319318615.1675208771-1675208774      page_view   \n",
       "2  319318615.167521  319318615.1675208771-1675208774  session_start   \n",
       "3  319318615.167521  319318615.1675208771-1675208774      page_view   \n",
       "4  319345731.167612  319345731.1676121475-1676121475    first_visit   \n",
       "\n",
       "                                       page_location  \\\n",
       "0  https://www.nawy.com/compound/274-zed-el-sheik...   \n",
       "1  https://www.nawy.com/compound/274-zed-el-sheik...   \n",
       "2  https://www.nawy.com/compound/274-zed-el-sheik...   \n",
       "3  https://www.nawy.com/compound/274-zed-el-sheik...   \n",
       "4  https://www.nawy.com/compound/260-v-residences...   \n",
       "\n",
       "                                     page_location.1  \\\n",
       "0  https://www.nawy.com/compound/274-zed-el-sheik...   \n",
       "1  https://www.nawy.com/compound/274-zed-el-sheik...   \n",
       "2  https://www.nawy.com/compound/274-zed-el-sheik...   \n",
       "3  https://www.nawy.com/compound/274-zed-el-sheik...   \n",
       "4  https://www.nawy.com/compound/260-v-residences...   \n",
       "\n",
       "         traffic_source_name traffic_source_source traffic_source_medium  \\\n",
       "0                   (direct)              (direct)                (none)   \n",
       "1                   (direct)              (direct)                (none)   \n",
       "2                   (direct)              (direct)                (none)   \n",
       "3                   (direct)              (direct)                (none)   \n",
       "4  Dynamic_Targeting_-_Zeina                google                   cpc   \n",
       "\n",
       "  category mobile_brand_name mobile_model_name operating_system  \\\n",
       "0   mobile            Realme           RMX1941          Android   \n",
       "1   mobile            Realme           RMX1941          Android   \n",
       "2   mobile            Realme           RMX1941          Android   \n",
       "3   mobile            Realme           RMX1941          Android   \n",
       "4   mobile             Apple            iPhone              iOS   \n",
       "\n",
       "  operating_system_version device_language web_info_browser country  \\\n",
       "0                Android 9              en           Chrome   Egypt   \n",
       "1                Android 9              en           Chrome   Egypt   \n",
       "2                Android 9              en           Chrome   Egypt   \n",
       "3                Android 9              en           Chrome   Egypt   \n",
       "4               iOS 16.1.1              en           Safari   Egypt   \n",
       "\n",
       "                   region  is_lead  \n",
       "0        Giza Governorate        0  \n",
       "1        Giza Governorate        0  \n",
       "2        Giza Governorate        0  \n",
       "3        Giza Governorate        0  \n",
       "4  Alexandria Governorate        0  "
      ]
     },
     "execution_count": 8,
     "metadata": {},
     "output_type": "execute_result"
    }
   ],
   "source": [
    "cleanDF = df\n",
    "cleanDF = cleanDF.drop(columns=['event_date', 'event_timestamp_date'])\n",
    "cleanDF = cleanDF.drop(columns=['event_location', 'action', 'sort', 'filters','recommended', 'card_details', 'campaign'])\n",
    "cleanDF.head()"
   ]
  },
  {
   "cell_type": "code",
   "execution_count": 9,
   "metadata": {},
   "outputs": [
    {
     "data": {
      "text/plain": [
       "user_psuedo_id                  0\n",
       "unique_session_id               0\n",
       "event_name                      0\n",
       "page_location                 193\n",
       "page_location.1               193\n",
       "traffic_source_name         62719\n",
       "traffic_source_source          69\n",
       "traffic_source_medium         499\n",
       "category                        0\n",
       "mobile_brand_name            8864\n",
       "mobile_model_name            8864\n",
       "operating_system               56\n",
       "operating_system_version        0\n",
       "device_language                 0\n",
       "web_info_browser               62\n",
       "country                       178\n",
       "region                      34935\n",
       "is_lead                         0\n",
       "dtype: int64"
      ]
     },
     "execution_count": 9,
     "metadata": {},
     "output_type": "execute_result"
    }
   ],
   "source": [
    "cleanDF.isnull().sum()"
   ]
  },
  {
   "attachments": {},
   "cell_type": "markdown",
   "metadata": {},
   "source": [
    "in the page location and page location.1 features there are 193 null values that can be simple be delt with, with a mode null fill"
   ]
  },
  {
   "cell_type": "code",
   "execution_count": 10,
   "metadata": {},
   "outputs": [],
   "source": [
    "cleanDF['page_location'] = cleanDF['page_location'].fillna(cleanDF['page_location'].mode()[0])\n",
    "cleanDF = cleanDF.drop(columns='page_location.1')"
   ]
  },
  {
   "attachments": {},
   "cell_type": "markdown",
   "metadata": {},
   "source": [
    "for the 3 traffic features we will be filling the null values with the mode"
   ]
  },
  {
   "cell_type": "code",
   "execution_count": 11,
   "metadata": {},
   "outputs": [],
   "source": [
    "cleanDF['traffic_source_name'] = cleanDF['traffic_source_name'].fillna(cleanDF['traffic_source_name'].mode()[0])\n",
    "cleanDF['traffic_source_source'] = cleanDF['traffic_source_source'].fillna(cleanDF['traffic_source_source'].mode()[0])\n",
    "cleanDF['traffic_source_medium'] = cleanDF['traffic_source_medium'].fillna(cleanDF['traffic_source_medium'].mode()[0])"
   ]
  },
  {
   "attachments": {},
   "cell_type": "markdown",
   "metadata": {},
   "source": [
    "with mobile brand and model features mode fill will be best suited in this case"
   ]
  },
  {
   "cell_type": "code",
   "execution_count": 12,
   "metadata": {},
   "outputs": [],
   "source": [
    "cleanDF['mobile_brand_name'] = cleanDF['mobile_brand_name'].fillna(cleanDF['mobile_brand_name'].mode()[0])\n",
    "cleanDF['mobile_model_name'] = cleanDF['mobile_model_name'].fillna(cleanDF['mobile_model_name'].mode()[0])"
   ]
  },
  {
   "attachments": {},
   "cell_type": "markdown",
   "metadata": {},
   "source": [
    "for the operating system and system version we feel the info is a bit redundent and the 2 features are way too highly correlated so it is best to just keep the one with the least null values and more infomation in the sense of differenciators by that we mean deleting the operating system and keeping the version"
   ]
  },
  {
   "cell_type": "code",
   "execution_count": 13,
   "metadata": {},
   "outputs": [],
   "source": [
    "cleanDF = cleanDF.drop(columns='operating_system')"
   ]
  },
  {
   "attachments": {},
   "cell_type": "markdown",
   "metadata": {},
   "source": [
    "for webinfo country and region all three will be filled using mode"
   ]
  },
  {
   "cell_type": "code",
   "execution_count": 14,
   "metadata": {},
   "outputs": [],
   "source": [
    "cleanDF['web_info_browser'] = cleanDF['web_info_browser'].fillna(cleanDF['web_info_browser'].mode()[0])\n",
    "cleanDF['country'] = cleanDF['country'].fillna(cleanDF['country'].mode()[0])\n",
    "cleanDF['region'] = cleanDF['region'].fillna(cleanDF['region'].mode()[0])"
   ]
  },
  {
   "attachments": {},
   "cell_type": "markdown",
   "metadata": {},
   "source": [
    "In order to not confused the model with unnessessary IDs i will drop the ID columns"
   ]
  },
  {
   "cell_type": "code",
   "execution_count": 15,
   "metadata": {},
   "outputs": [],
   "source": [
    "cleanDF = cleanDF.drop_duplicates()"
   ]
  },
  {
   "cell_type": "code",
   "execution_count": 16,
   "metadata": {},
   "outputs": [],
   "source": [
    "cleanDF = cleanDF.drop(columns=['user_psuedo_id','unique_session_id'] )"
   ]
  },
  {
   "cell_type": "code",
   "execution_count": 17,
   "metadata": {},
   "outputs": [
    {
     "data": {
      "text/plain": [
       "event_name                  0\n",
       "page_location               0\n",
       "traffic_source_name         0\n",
       "traffic_source_source       0\n",
       "traffic_source_medium       0\n",
       "category                    0\n",
       "mobile_brand_name           0\n",
       "mobile_model_name           0\n",
       "operating_system_version    0\n",
       "device_language             0\n",
       "web_info_browser            0\n",
       "country                     0\n",
       "region                      0\n",
       "is_lead                     0\n",
       "dtype: int64"
      ]
     },
     "execution_count": 17,
     "metadata": {},
     "output_type": "execute_result"
    }
   ],
   "source": [
    "cleanDF.isnull().sum()"
   ]
  },
  {
   "attachments": {},
   "cell_type": "markdown",
   "metadata": {},
   "source": [
    "<h1>Feature Engineering</h1>"
   ]
  },
  {
   "attachments": {},
   "cell_type": "markdown",
   "metadata": {},
   "source": [
    "Now that all the null values have been delt with it is time to lable encode all the feature sense they are all strings and extract visualizations and model predictions"
   ]
  },
  {
   "cell_type": "code",
   "execution_count": 18,
   "metadata": {},
   "outputs": [
    {
     "data": {
      "text/html": [
       "<div>\n",
       "<style scoped>\n",
       "    .dataframe tbody tr th:only-of-type {\n",
       "        vertical-align: middle;\n",
       "    }\n",
       "\n",
       "    .dataframe tbody tr th {\n",
       "        vertical-align: top;\n",
       "    }\n",
       "\n",
       "    .dataframe thead th {\n",
       "        text-align: right;\n",
       "    }\n",
       "</style>\n",
       "<table border=\"1\" class=\"dataframe\">\n",
       "  <thead>\n",
       "    <tr style=\"text-align: right;\">\n",
       "      <th></th>\n",
       "      <th>event_name</th>\n",
       "      <th>page_location</th>\n",
       "      <th>traffic_source_name</th>\n",
       "      <th>traffic_source_source</th>\n",
       "      <th>traffic_source_medium</th>\n",
       "      <th>category</th>\n",
       "      <th>mobile_brand_name</th>\n",
       "      <th>mobile_model_name</th>\n",
       "      <th>operating_system_version</th>\n",
       "      <th>device_language</th>\n",
       "      <th>web_info_browser</th>\n",
       "      <th>country</th>\n",
       "      <th>region</th>\n",
       "      <th>is_lead</th>\n",
       "    </tr>\n",
       "  </thead>\n",
       "  <tbody>\n",
       "    <tr>\n",
       "      <th>0</th>\n",
       "      <td>2</td>\n",
       "      <td>171241</td>\n",
       "      <td>0</td>\n",
       "      <td>0</td>\n",
       "      <td>0</td>\n",
       "      <td>1</td>\n",
       "      <td>77</td>\n",
       "      <td>1411</td>\n",
       "      <td>34</td>\n",
       "      <td>76</td>\n",
       "      <td>5</td>\n",
       "      <td>48</td>\n",
       "      <td>294</td>\n",
       "      <td>0</td>\n",
       "    </tr>\n",
       "    <tr>\n",
       "      <th>1</th>\n",
       "      <td>3</td>\n",
       "      <td>171241</td>\n",
       "      <td>0</td>\n",
       "      <td>0</td>\n",
       "      <td>0</td>\n",
       "      <td>1</td>\n",
       "      <td>77</td>\n",
       "      <td>1411</td>\n",
       "      <td>34</td>\n",
       "      <td>76</td>\n",
       "      <td>5</td>\n",
       "      <td>48</td>\n",
       "      <td>294</td>\n",
       "      <td>0</td>\n",
       "    </tr>\n",
       "    <tr>\n",
       "      <th>2</th>\n",
       "      <td>5</td>\n",
       "      <td>171241</td>\n",
       "      <td>0</td>\n",
       "      <td>0</td>\n",
       "      <td>0</td>\n",
       "      <td>1</td>\n",
       "      <td>77</td>\n",
       "      <td>1411</td>\n",
       "      <td>34</td>\n",
       "      <td>76</td>\n",
       "      <td>5</td>\n",
       "      <td>48</td>\n",
       "      <td>294</td>\n",
       "      <td>0</td>\n",
       "    </tr>\n",
       "    <tr>\n",
       "      <th>4</th>\n",
       "      <td>2</td>\n",
       "      <td>161736</td>\n",
       "      <td>170</td>\n",
       "      <td>64</td>\n",
       "      <td>12</td>\n",
       "      <td>1</td>\n",
       "      <td>5</td>\n",
       "      <td>2734</td>\n",
       "      <td>221</td>\n",
       "      <td>76</td>\n",
       "      <td>15</td>\n",
       "      <td>48</td>\n",
       "      <td>35</td>\n",
       "      <td>0</td>\n",
       "    </tr>\n",
       "    <tr>\n",
       "      <th>5</th>\n",
       "      <td>3</td>\n",
       "      <td>161736</td>\n",
       "      <td>170</td>\n",
       "      <td>64</td>\n",
       "      <td>12</td>\n",
       "      <td>1</td>\n",
       "      <td>5</td>\n",
       "      <td>2734</td>\n",
       "      <td>221</td>\n",
       "      <td>76</td>\n",
       "      <td>15</td>\n",
       "      <td>48</td>\n",
       "      <td>35</td>\n",
       "      <td>0</td>\n",
       "    </tr>\n",
       "  </tbody>\n",
       "</table>\n",
       "</div>"
      ],
      "text/plain": [
       "   event_name  page_location  traffic_source_name  traffic_source_source  \\\n",
       "0           2         171241                    0                      0   \n",
       "1           3         171241                    0                      0   \n",
       "2           5         171241                    0                      0   \n",
       "4           2         161736                  170                     64   \n",
       "5           3         161736                  170                     64   \n",
       "\n",
       "   traffic_source_medium  category  mobile_brand_name  mobile_model_name  \\\n",
       "0                      0         1                 77               1411   \n",
       "1                      0         1                 77               1411   \n",
       "2                      0         1                 77               1411   \n",
       "4                     12         1                  5               2734   \n",
       "5                     12         1                  5               2734   \n",
       "\n",
       "   operating_system_version  device_language  web_info_browser  country  \\\n",
       "0                        34               76                 5       48   \n",
       "1                        34               76                 5       48   \n",
       "2                        34               76                 5       48   \n",
       "4                       221               76                15       48   \n",
       "5                       221               76                15       48   \n",
       "\n",
       "   region  is_lead  \n",
       "0     294        0  \n",
       "1     294        0  \n",
       "2     294        0  \n",
       "4      35        0  \n",
       "5      35        0  "
      ]
     },
     "execution_count": 18,
     "metadata": {},
     "output_type": "execute_result"
    }
   ],
   "source": [
    "from sklearn.preprocessing import LabelEncoder\n",
    "le = LabelEncoder()\n",
    "for i in cleanDF.columns:\n",
    "    if i == 'is_lead':\n",
    "        continue\n",
    "    cleanDF[i] = cleanDF[i].astype(str)\n",
    "cleanDF = cleanDF.apply(LabelEncoder().fit_transform)\n",
    "cleanDF.head()"
   ]
  },
  {
   "cell_type": "code",
   "execution_count": 19,
   "metadata": {},
   "outputs": [
    {
     "data": {
      "text/plain": [
       "event_name                  0\n",
       "page_location               0\n",
       "traffic_source_name         0\n",
       "traffic_source_source       0\n",
       "traffic_source_medium       0\n",
       "category                    0\n",
       "mobile_brand_name           0\n",
       "mobile_model_name           0\n",
       "operating_system_version    0\n",
       "device_language             0\n",
       "web_info_browser            0\n",
       "country                     0\n",
       "region                      0\n",
       "is_lead                     0\n",
       "dtype: int64"
      ]
     },
     "execution_count": 19,
     "metadata": {},
     "output_type": "execute_result"
    }
   ],
   "source": [
    "cleanDF.isnull().sum()"
   ]
  },
  {
   "attachments": {},
   "cell_type": "markdown",
   "metadata": {},
   "source": [
    "<h1>Visualizations</h1>"
   ]
  },
  {
   "cell_type": "code",
   "execution_count": 20,
   "metadata": {},
   "outputs": [
    {
     "data": {
      "image/png": "[encoded data removed]",
      "text/plain": [
       "<Figure size 640x480 with 2 Axes>"
      ]
     },
     "metadata": {},
     "output_type": "display_data"
    }
   ],
   "source": [
    "corr = cleanDF.corr()\n",
    "plt.figure()\n",
    "plt.imshow(corr, cmap='RdBu')\n",
    "plt.colorbar()\n",
    "plt.xticks(range(len(corr.columns)), corr.columns, rotation=90)\n",
    "plt.yticks(range(len(corr.columns)), corr.columns)\n",
    "plt.title('Correlation Matrix')\n",
    "plt.show()"
   ]
  },
  {
   "attachments": {},
   "cell_type": "markdown",
   "metadata": {},
   "source": [
    "<h1> Model Evaluations </h1>"
   ]
  },
  {
   "attachments": {},
   "cell_type": "markdown",
   "metadata": {},
   "source": [
    "Finally after cleaning all the data it is time to test the models' accuracy"
   ]
  },
  {
   "cell_type": "code",
   "execution_count": 21,
   "metadata": {},
   "outputs": [],
   "source": [
    "from sklearn.linear_model import LogisticRegression\n",
    "from sklearn.neighbors import KNeighborsClassifier\n",
    "from sklearn.tree import DecisionTreeClassifier\n",
    "from sklearn import naive_bayes\n",
    "from sklearn.ensemble import RandomForestClassifier\n",
    "from sklearn import svm\n",
    "from sklearn import metrics\n",
    "from sklearn.model_selection import train_test_split\n",
    "from imblearn.under_sampling import RandomUnderSampler\n",
    "from imblearn.over_sampling import RandomOverSampler"
   ]
  },
  {
   "cell_type": "code",
   "execution_count": 22,
   "metadata": {},
   "outputs": [],
   "source": [
    "testdf = cleanDF.sample(frac=0.10, random_state= 42)\n",
    "cleanDF = cleanDF.drop(testdf.index)\n",
    "X = cleanDF.drop(columns='is_lead')\n",
    "y = cleanDF['is_lead']"
   ]
  },
  {
   "attachments": {},
   "cell_type": "markdown",
   "metadata": {},
   "source": [
    "<h1> Default data"
   ]
  },
  {
   "cell_type": "code",
   "execution_count": 23,
   "metadata": {},
   "outputs": [],
   "source": [
    "x_train, x_validate, y_train, y_validate = train_test_split(X, y,train_size= 0.80, test_size= 0.10, random_state=42)"
   ]
  },
  {
   "cell_type": "code",
   "execution_count": 24,
   "metadata": {},
   "outputs": [
    {
     "data": {
      "text/html": [
       "<style>#sk-container-id-1 {color: black;background-color: white;}#sk-container-id-1 pre{padding: 0;}#sk-container-id-1 div.sk-toggleable {background-color: white;}#sk-container-id-1 label.sk-toggleable__label {cursor: pointer;display: block;width: 100%;margin-bottom: 0;padding: 0.3em;box-sizing: border-box;text-align: center;}#sk-container-id-1 label.sk-toggleable__label-arrow:before {content: \"▸\";float: left;margin-right: 0.25em;color: #696969;}#sk-container-id-1 label.sk-toggleable__label-arrow:hover:before {color: black;}#sk-container-id-1 div.sk-estimator:hover label.sk-toggleable__label-arrow:before {color: black;}#sk-container-id-1 div.sk-toggleable__content {max-height: 0;max-width: 0;overflow: hidden;text-align: left;background-color: #f0f8ff;}#sk-container-id-1 div.sk-toggleable__content pre {margin: 0.2em;color: black;border-radius: 0.25em;background-color: #f0f8ff;}#sk-container-id-1 input.sk-toggleable__control:checked~div.sk-toggleable__content {max-height: 200px;max-width: 100%;overflow: auto;}#sk-container-id-1 input.sk-toggleable__control:checked~label.sk-toggleable__label-arrow:before {content: \"▾\";}#sk-container-id-1 div.sk-estimator input.sk-toggleable__control:checked~label.sk-toggleable__label {background-color: #d4ebff;}#sk-container-id-1 div.sk-label input.sk-toggleable__control:checked~label.sk-toggleable__label {background-color: #d4ebff;}#sk-container-id-1 input.sk-hidden--visually {border: 0;clip: rect(1px 1px 1px 1px);clip: rect(1px, 1px, 1px, 1px);height: 1px;margin: -1px;overflow: hidden;padding: 0;position: absolute;width: 1px;}#sk-container-id-1 div.sk-estimator {font-family: monospace;background-color: #f0f8ff;border: 1px dotted black;border-radius: 0.25em;box-sizing: border-box;margin-bottom: 0.5em;}#sk-container-id-1 div.sk-estimator:hover {background-color: #d4ebff;}#sk-container-id-1 div.sk-parallel-item::after {content: \"\";width: 100%;border-bottom: 1px solid gray;flex-grow: 1;}#sk-container-id-1 div.sk-label:hover label.sk-toggleable__label {background-color: #d4ebff;}#sk-container-id-1 div.sk-serial::before {content: \"\";position: absolute;border-left: 1px solid gray;box-sizing: border-box;top: 0;bottom: 0;left: 50%;z-index: 0;}#sk-container-id-1 div.sk-serial {display: flex;flex-direction: column;align-items: center;background-color: white;padding-right: 0.2em;padding-left: 0.2em;position: relative;}#sk-container-id-1 div.sk-item {position: relative;z-index: 1;}#sk-container-id-1 div.sk-parallel {display: flex;align-items: stretch;justify-content: center;background-color: white;position: relative;}#sk-container-id-1 div.sk-item::before, #sk-container-id-1 div.sk-parallel-item::before {content: \"\";position: absolute;border-left: 1px solid gray;box-sizing: border-box;top: 0;bottom: 0;left: 50%;z-index: -1;}#sk-container-id-1 div.sk-parallel-item {display: flex;flex-direction: column;z-index: 1;position: relative;background-color: white;}#sk-container-id-1 div.sk-parallel-item:first-child::after {align-self: flex-end;width: 50%;}#sk-container-id-1 div.sk-parallel-item:last-child::after {align-self: flex-start;width: 50%;}#sk-container-id-1 div.sk-parallel-item:only-child::after {width: 0;}#sk-container-id-1 div.sk-dashed-wrapped {border: 1px dashed gray;margin: 0 0.4em 0.5em 0.4em;box-sizing: border-box;padding-bottom: 0.4em;background-color: white;}#sk-container-id-1 div.sk-label label {font-family: monospace;font-weight: bold;display: inline-block;line-height: 1.2em;}#sk-container-id-1 div.sk-label-container {text-align: center;}#sk-container-id-1 div.sk-container {/* jupyter's `normalize.less` sets `[hidden] { display: none; }` but bootstrap.min.css set `[hidden] { display: none !important; }` so we also need the `!important` here to be able to override the default hidden behavior on the sphinx rendered scikit-learn.org. See: https://github.com/scikit-learn/scikit-learn/issues/21755 */display: inline-block !important;position: relative;}#sk-container-id-1 div.sk-text-repr-fallback {display: none;}</style><div id=\"sk-container-id-1\" class=\"sk-top-container\"><div class=\"sk-text-repr-fallback\"><pre>LogisticRegression(max_iter=100000000000, n_jobs=-1)</pre><b>In a Jupyter environment, please rerun this cell to show the HTML representation or trust the notebook. <br />On GitHub, the HTML representation is unable to render, please try loading this page with nbviewer.org.</b></div><div class=\"sk-container\" hidden><div class=\"sk-item\"><div class=\"sk-estimator sk-toggleable\"><input class=\"sk-toggleable__control sk-hidden--visually\" id=\"sk-estimator-id-1\" type=\"checkbox\" checked><label for=\"sk-estimator-id-1\" class=\"sk-toggleable__label sk-toggleable__label-arrow\">LogisticRegression</label><div class=\"sk-toggleable__content\"><pre>LogisticRegression(max_iter=100000000000, n_jobs=-1)</pre></div></div></div></div></div>"
      ],
      "text/plain": [
       "LogisticRegression(max_iter=100000000000, n_jobs=-1)"
      ]
     },
     "execution_count": 24,
     "metadata": {},
     "output_type": "execute_result"
    }
   ],
   "source": [
    "lr = LogisticRegression(max_iter=100000000000, n_jobs= -1)\n",
    "lr.fit(x_train, y_train)"
   ]
  },
  {
   "cell_type": "code",
   "execution_count": 25,
   "metadata": {},
   "outputs": [
    {
     "name": "stdout",
     "output_type": "stream",
     "text": [
      "Linear Regression model\n",
      " train accuracy = 99.03118672213232%\n",
      "test accuracy = 98.99823097621646%\n",
      "              precision    recall  f1-score   support\n",
      "\n",
      "           0       0.99      1.00      0.99    146061\n",
      "           1       0.00      0.00      0.00      1478\n",
      "\n",
      "    accuracy                           0.99    147539\n",
      "   macro avg       0.49      0.50      0.50    147539\n",
      "weighted avg       0.98      0.99      0.98    147539\n",
      "\n",
      "Confusion Matrix\n",
      "[[146061      0]\n",
      " [  1478      0]]\n"
     ]
    },
    {
     "name": "stderr",
     "output_type": "stream",
     "text": [
      "c:\\Users\\a_rah\\anaconda3\\lib\\site-packages\\sklearn\\metrics\\_classification.py:1344: UndefinedMetricWarning: Precision and F-score are ill-defined and being set to 0.0 in labels with no predicted samples. Use `zero_division` parameter to control this behavior.\n",
      "  _warn_prf(average, modifier, msg_start, len(result))\n",
      "c:\\Users\\a_rah\\anaconda3\\lib\\site-packages\\sklearn\\metrics\\_classification.py:1344: UndefinedMetricWarning: Precision and F-score are ill-defined and being set to 0.0 in labels with no predicted samples. Use `zero_division` parameter to control this behavior.\n",
      "  _warn_prf(average, modifier, msg_start, len(result))\n",
      "c:\\Users\\a_rah\\anaconda3\\lib\\site-packages\\sklearn\\metrics\\_classification.py:1344: UndefinedMetricWarning: Precision and F-score are ill-defined and being set to 0.0 in labels with no predicted samples. Use `zero_division` parameter to control this behavior.\n",
      "  _warn_prf(average, modifier, msg_start, len(result))\n"
     ]
    }
   ],
   "source": [
    "print('Linear Regression model')\n",
    "y_pred = lr.predict(x_train)\n",
    "acc = metrics.accuracy_score(y_train,y_pred)\n",
    "print (' train accuracy = '+str(acc*100)+'%')\n",
    "y_pred = lr.predict(x_validate)\n",
    "acc = metrics.accuracy_score(y_validate,y_pred)\n",
    "print ('test accuracy = '+str(acc*100)+'%')\n",
    "print (metrics.classification_report(y_validate,y_pred))\n",
    "print(\"Confusion Matrix\")\n",
    "print(metrics.confusion_matrix(y_validate,y_pred))"
   ]
  },
  {
   "cell_type": "code",
   "execution_count": 26,
   "metadata": {},
   "outputs": [
    {
     "data": {
      "text/html": [
       "<style>#sk-container-id-2 {color: black;background-color: white;}#sk-container-id-2 pre{padding: 0;}#sk-container-id-2 div.sk-toggleable {background-color: white;}#sk-container-id-2 label.sk-toggleable__label {cursor: pointer;display: block;width: 100%;margin-bottom: 0;padding: 0.3em;box-sizing: border-box;text-align: center;}#sk-container-id-2 label.sk-toggleable__label-arrow:before {content: \"▸\";float: left;margin-right: 0.25em;color: #696969;}#sk-container-id-2 label.sk-toggleable__label-arrow:hover:before {color: black;}#sk-container-id-2 div.sk-estimator:hover label.sk-toggleable__label-arrow:before {color: black;}#sk-container-id-2 div.sk-toggleable__content {max-height: 0;max-width: 0;overflow: hidden;text-align: left;background-color: #f0f8ff;}#sk-container-id-2 div.sk-toggleable__content pre {margin: 0.2em;color: black;border-radius: 0.25em;background-color: #f0f8ff;}#sk-container-id-2 input.sk-toggleable__control:checked~div.sk-toggleable__content {max-height: 200px;max-width: 100%;overflow: auto;}#sk-container-id-2 input.sk-toggleable__control:checked~label.sk-toggleable__label-arrow:before {content: \"▾\";}#sk-container-id-2 div.sk-estimator input.sk-toggleable__control:checked~label.sk-toggleable__label {background-color: #d4ebff;}#sk-container-id-2 div.sk-label input.sk-toggleable__control:checked~label.sk-toggleable__label {background-color: #d4ebff;}#sk-container-id-2 input.sk-hidden--visually {border: 0;clip: rect(1px 1px 1px 1px);clip: rect(1px, 1px, 1px, 1px);height: 1px;margin: -1px;overflow: hidden;padding: 0;position: absolute;width: 1px;}#sk-container-id-2 div.sk-estimator {font-family: monospace;background-color: #f0f8ff;border: 1px dotted black;border-radius: 0.25em;box-sizing: border-box;margin-bottom: 0.5em;}#sk-container-id-2 div.sk-estimator:hover {background-color: #d4ebff;}#sk-container-id-2 div.sk-parallel-item::after {content: \"\";width: 100%;border-bottom: 1px solid gray;flex-grow: 1;}#sk-container-id-2 div.sk-label:hover label.sk-toggleable__label {background-color: #d4ebff;}#sk-container-id-2 div.sk-serial::before {content: \"\";position: absolute;border-left: 1px solid gray;box-sizing: border-box;top: 0;bottom: 0;left: 50%;z-index: 0;}#sk-container-id-2 div.sk-serial {display: flex;flex-direction: column;align-items: center;background-color: white;padding-right: 0.2em;padding-left: 0.2em;position: relative;}#sk-container-id-2 div.sk-item {position: relative;z-index: 1;}#sk-container-id-2 div.sk-parallel {display: flex;align-items: stretch;justify-content: center;background-color: white;position: relative;}#sk-container-id-2 div.sk-item::before, #sk-container-id-2 div.sk-parallel-item::before {content: \"\";position: absolute;border-left: 1px solid gray;box-sizing: border-box;top: 0;bottom: 0;left: 50%;z-index: -1;}#sk-container-id-2 div.sk-parallel-item {display: flex;flex-direction: column;z-index: 1;position: relative;background-color: white;}#sk-container-id-2 div.sk-parallel-item:first-child::after {align-self: flex-end;width: 50%;}#sk-container-id-2 div.sk-parallel-item:last-child::after {align-self: flex-start;width: 50%;}#sk-container-id-2 div.sk-parallel-item:only-child::after {width: 0;}#sk-container-id-2 div.sk-dashed-wrapped {border: 1px dashed gray;margin: 0 0.4em 0.5em 0.4em;box-sizing: border-box;padding-bottom: 0.4em;background-color: white;}#sk-container-id-2 div.sk-label label {font-family: monospace;font-weight: bold;display: inline-block;line-height: 1.2em;}#sk-container-id-2 div.sk-label-container {text-align: center;}#sk-container-id-2 div.sk-container {/* jupyter's `normalize.less` sets `[hidden] { display: none; }` but bootstrap.min.css set `[hidden] { display: none !important; }` so we also need the `!important` here to be able to override the default hidden behavior on the sphinx rendered scikit-learn.org. See: https://github.com/scikit-learn/scikit-learn/issues/21755 */display: inline-block !important;position: relative;}#sk-container-id-2 div.sk-text-repr-fallback {display: none;}</style><div id=\"sk-container-id-2\" class=\"sk-top-container\"><div class=\"sk-text-repr-fallback\"><pre>DecisionTreeClassifier()</pre><b>In a Jupyter environment, please rerun this cell to show the HTML representation or trust the notebook. <br />On GitHub, the HTML representation is unable to render, please try loading this page with nbviewer.org.</b></div><div class=\"sk-container\" hidden><div class=\"sk-item\"><div class=\"sk-estimator sk-toggleable\"><input class=\"sk-toggleable__control sk-hidden--visually\" id=\"sk-estimator-id-2\" type=\"checkbox\" checked><label for=\"sk-estimator-id-2\" class=\"sk-toggleable__label sk-toggleable__label-arrow\">DecisionTreeClassifier</label><div class=\"sk-toggleable__content\"><pre>DecisionTreeClassifier()</pre></div></div></div></div></div>"
      ],
      "text/plain": [
       "DecisionTreeClassifier()"
      ]
     },
     "execution_count": 26,
     "metadata": {},
     "output_type": "execute_result"
    }
   ],
   "source": [
    "dt = DecisionTreeClassifier(criterion='gini')\n",
    "dt.fit(x_train, y_train)"
   ]
  },
  {
   "cell_type": "code",
   "execution_count": 27,
   "metadata": {},
   "outputs": [
    {
     "name": "stdout",
     "output_type": "stream",
     "text": [
      "Decision Tree\n",
      " train accuracy = 99.91027780837237%\n",
      "test accuracy = 99.0239868780458%\n",
      "              precision    recall  f1-score   support\n",
      "\n",
      "           0       1.00      1.00      1.00    146061\n",
      "           1       0.51      0.51      0.51      1478\n",
      "\n",
      "    accuracy                           0.99    147539\n",
      "   macro avg       0.75      0.75      0.75    147539\n",
      "weighted avg       0.99      0.99      0.99    147539\n",
      "\n",
      "Confusion Matrix\n",
      "[[145350    711]\n",
      " [   729    749]]\n"
     ]
    }
   ],
   "source": [
    "print('Decision Tree')\n",
    "y_pred = dt.predict(x_train)\n",
    "acc = metrics.accuracy_score(y_train,y_pred)\n",
    "print (' train accuracy = '+str(acc*100)+'%')\n",
    "y_pred = dt.predict(x_validate)\n",
    "acc = metrics.accuracy_score(y_validate,y_pred)\n",
    "print ('test accuracy = '+str(acc*100)+'%')\n",
    "print (metrics.classification_report(y_validate,y_pred))\n",
    "print(\"Confusion Matrix\")\n",
    "print(metrics.confusion_matrix(y_validate,y_pred))"
   ]
  },
  {
   "cell_type": "code",
   "execution_count": 28,
   "metadata": {},
   "outputs": [
    {
     "data": {
      "text/html": [
       "<style>#sk-container-id-3 {color: black;background-color: white;}#sk-container-id-3 pre{padding: 0;}#sk-container-id-3 div.sk-toggleable {background-color: white;}#sk-container-id-3 label.sk-toggleable__label {cursor: pointer;display: block;width: 100%;margin-bottom: 0;padding: 0.3em;box-sizing: border-box;text-align: center;}#sk-container-id-3 label.sk-toggleable__label-arrow:before {content: \"▸\";float: left;margin-right: 0.25em;color: #696969;}#sk-container-id-3 label.sk-toggleable__label-arrow:hover:before {color: black;}#sk-container-id-3 div.sk-estimator:hover label.sk-toggleable__label-arrow:before {color: black;}#sk-container-id-3 div.sk-toggleable__content {max-height: 0;max-width: 0;overflow: hidden;text-align: left;background-color: #f0f8ff;}#sk-container-id-3 div.sk-toggleable__content pre {margin: 0.2em;color: black;border-radius: 0.25em;background-color: #f0f8ff;}#sk-container-id-3 input.sk-toggleable__control:checked~div.sk-toggleable__content {max-height: 200px;max-width: 100%;overflow: auto;}#sk-container-id-3 input.sk-toggleable__control:checked~label.sk-toggleable__label-arrow:before {content: \"▾\";}#sk-container-id-3 div.sk-estimator input.sk-toggleable__control:checked~label.sk-toggleable__label {background-color: #d4ebff;}#sk-container-id-3 div.sk-label input.sk-toggleable__control:checked~label.sk-toggleable__label {background-color: #d4ebff;}#sk-container-id-3 input.sk-hidden--visually {border: 0;clip: rect(1px 1px 1px 1px);clip: rect(1px, 1px, 1px, 1px);height: 1px;margin: -1px;overflow: hidden;padding: 0;position: absolute;width: 1px;}#sk-container-id-3 div.sk-estimator {font-family: monospace;background-color: #f0f8ff;border: 1px dotted black;border-radius: 0.25em;box-sizing: border-box;margin-bottom: 0.5em;}#sk-container-id-3 div.sk-estimator:hover {background-color: #d4ebff;}#sk-container-id-3 div.sk-parallel-item::after {content: \"\";width: 100%;border-bottom: 1px solid gray;flex-grow: 1;}#sk-container-id-3 div.sk-label:hover label.sk-toggleable__label {background-color: #d4ebff;}#sk-container-id-3 div.sk-serial::before {content: \"\";position: absolute;border-left: 1px solid gray;box-sizing: border-box;top: 0;bottom: 0;left: 50%;z-index: 0;}#sk-container-id-3 div.sk-serial {display: flex;flex-direction: column;align-items: center;background-color: white;padding-right: 0.2em;padding-left: 0.2em;position: relative;}#sk-container-id-3 div.sk-item {position: relative;z-index: 1;}#sk-container-id-3 div.sk-parallel {display: flex;align-items: stretch;justify-content: center;background-color: white;position: relative;}#sk-container-id-3 div.sk-item::before, #sk-container-id-3 div.sk-parallel-item::before {content: \"\";position: absolute;border-left: 1px solid gray;box-sizing: border-box;top: 0;bottom: 0;left: 50%;z-index: -1;}#sk-container-id-3 div.sk-parallel-item {display: flex;flex-direction: column;z-index: 1;position: relative;background-color: white;}#sk-container-id-3 div.sk-parallel-item:first-child::after {align-self: flex-end;width: 50%;}#sk-container-id-3 div.sk-parallel-item:last-child::after {align-self: flex-start;width: 50%;}#sk-container-id-3 div.sk-parallel-item:only-child::after {width: 0;}#sk-container-id-3 div.sk-dashed-wrapped {border: 1px dashed gray;margin: 0 0.4em 0.5em 0.4em;box-sizing: border-box;padding-bottom: 0.4em;background-color: white;}#sk-container-id-3 div.sk-label label {font-family: monospace;font-weight: bold;display: inline-block;line-height: 1.2em;}#sk-container-id-3 div.sk-label-container {text-align: center;}#sk-container-id-3 div.sk-container {/* jupyter's `normalize.less` sets `[hidden] { display: none; }` but bootstrap.min.css set `[hidden] { display: none !important; }` so we also need the `!important` here to be able to override the default hidden behavior on the sphinx rendered scikit-learn.org. See: https://github.com/scikit-learn/scikit-learn/issues/21755 */display: inline-block !important;position: relative;}#sk-container-id-3 div.sk-text-repr-fallback {display: none;}</style><div id=\"sk-container-id-3\" class=\"sk-top-container\"><div class=\"sk-text-repr-fallback\"><pre>RandomForestClassifier(criterion=&#x27;log_loss&#x27;, n_estimators=300)</pre><b>In a Jupyter environment, please rerun this cell to show the HTML representation or trust the notebook. <br />On GitHub, the HTML representation is unable to render, please try loading this page with nbviewer.org.</b></div><div class=\"sk-container\" hidden><div class=\"sk-item\"><div class=\"sk-estimator sk-toggleable\"><input class=\"sk-toggleable__control sk-hidden--visually\" id=\"sk-estimator-id-3\" type=\"checkbox\" checked><label for=\"sk-estimator-id-3\" class=\"sk-toggleable__label sk-toggleable__label-arrow\">RandomForestClassifier</label><div class=\"sk-toggleable__content\"><pre>RandomForestClassifier(criterion=&#x27;log_loss&#x27;, n_estimators=300)</pre></div></div></div></div></div>"
      ],
      "text/plain": [
       "RandomForestClassifier(criterion='log_loss', n_estimators=300)"
      ]
     },
     "execution_count": 28,
     "metadata": {},
     "output_type": "execute_result"
    }
   ],
   "source": [
    "rf = RandomForestClassifier(criterion='log_loss', n_estimators=300)\n",
    "rf.fit(x_train, y_train)"
   ]
  },
  {
   "cell_type": "code",
   "execution_count": 29,
   "metadata": {},
   "outputs": [
    {
     "name": "stdout",
     "output_type": "stream",
     "text": [
      "Random Forest\n",
      " train accuracy = 99.91027780837237%\n",
      "test accuracy = 99.26866794542461%\n",
      "              precision    recall  f1-score   support\n",
      "\n",
      "           0       0.99      1.00      1.00    146061\n",
      "           1       0.72      0.44      0.54      1478\n",
      "\n",
      "    accuracy                           0.99    147539\n",
      "   macro avg       0.86      0.72      0.77    147539\n",
      "weighted avg       0.99      0.99      0.99    147539\n",
      "\n",
      "Confusion Matrix\n",
      "[[145815    246]\n",
      " [   833    645]]\n"
     ]
    }
   ],
   "source": [
    "print('Random Forest')\n",
    "y_pred = rf.predict(x_train)\n",
    "acc = metrics.accuracy_score(y_train,y_pred)\n",
    "print (' train accuracy = '+str(acc*100)+'%')\n",
    "y_pred = rf.predict(x_validate)\n",
    "acc = metrics.accuracy_score(y_validate,y_pred)\n",
    "print ('test accuracy = '+str(acc*100)+'%')\n",
    "print (metrics.classification_report(y_validate,y_pred))\n",
    "print(\"Confusion Matrix\")\n",
    "print(metrics.confusion_matrix(y_validate,y_pred))"
   ]
  },
  {
   "attachments": {},
   "cell_type": "markdown",
   "metadata": {},
   "source": [
    "<h1>Random Undersampling</h1>"
   ]
  },
  {
   "cell_type": "code",
   "execution_count": 30,
   "metadata": {},
   "outputs": [],
   "source": [
    "\n",
    "rus = RandomUnderSampler(sampling_strategy=1)\n",
    "X_rus, y_rus = rus.fit_resample(X, y)\n"
   ]
  },
  {
   "cell_type": "code",
   "execution_count": 31,
   "metadata": {},
   "outputs": [],
   "source": [
    "\n",
    "x_train, x_validate, y_train, y_validate = train_test_split(X_rus, y_rus,train_size= 0.80, test_size= 0.10, random_state=42)"
   ]
  },
  {
   "cell_type": "code",
   "execution_count": 32,
   "metadata": {},
   "outputs": [
    {
     "data": {
      "text/html": [
       "<style>#sk-container-id-4 {color: black;background-color: white;}#sk-container-id-4 pre{padding: 0;}#sk-container-id-4 div.sk-toggleable {background-color: white;}#sk-container-id-4 label.sk-toggleable__label {cursor: pointer;display: block;width: 100%;margin-bottom: 0;padding: 0.3em;box-sizing: border-box;text-align: center;}#sk-container-id-4 label.sk-toggleable__label-arrow:before {content: \"▸\";float: left;margin-right: 0.25em;color: #696969;}#sk-container-id-4 label.sk-toggleable__label-arrow:hover:before {color: black;}#sk-container-id-4 div.sk-estimator:hover label.sk-toggleable__label-arrow:before {color: black;}#sk-container-id-4 div.sk-toggleable__content {max-height: 0;max-width: 0;overflow: hidden;text-align: left;background-color: #f0f8ff;}#sk-container-id-4 div.sk-toggleable__content pre {margin: 0.2em;color: black;border-radius: 0.25em;background-color: #f0f8ff;}#sk-container-id-4 input.sk-toggleable__control:checked~div.sk-toggleable__content {max-height: 200px;max-width: 100%;overflow: auto;}#sk-container-id-4 input.sk-toggleable__control:checked~label.sk-toggleable__label-arrow:before {content: \"▾\";}#sk-container-id-4 div.sk-estimator input.sk-toggleable__control:checked~label.sk-toggleable__label {background-color: #d4ebff;}#sk-container-id-4 div.sk-label input.sk-toggleable__control:checked~label.sk-toggleable__label {background-color: #d4ebff;}#sk-container-id-4 input.sk-hidden--visually {border: 0;clip: rect(1px 1px 1px 1px);clip: rect(1px, 1px, 1px, 1px);height: 1px;margin: -1px;overflow: hidden;padding: 0;position: absolute;width: 1px;}#sk-container-id-4 div.sk-estimator {font-family: monospace;background-color: #f0f8ff;border: 1px dotted black;border-radius: 0.25em;box-sizing: border-box;margin-bottom: 0.5em;}#sk-container-id-4 div.sk-estimator:hover {background-color: #d4ebff;}#sk-container-id-4 div.sk-parallel-item::after {content: \"\";width: 100%;border-bottom: 1px solid gray;flex-grow: 1;}#sk-container-id-4 div.sk-label:hover label.sk-toggleable__label {background-color: #d4ebff;}#sk-container-id-4 div.sk-serial::before {content: \"\";position: absolute;border-left: 1px solid gray;box-sizing: border-box;top: 0;bottom: 0;left: 50%;z-index: 0;}#sk-container-id-4 div.sk-serial {display: flex;flex-direction: column;align-items: center;background-color: white;padding-right: 0.2em;padding-left: 0.2em;position: relative;}#sk-container-id-4 div.sk-item {position: relative;z-index: 1;}#sk-container-id-4 div.sk-parallel {display: flex;align-items: stretch;justify-content: center;background-color: white;position: relative;}#sk-container-id-4 div.sk-item::before, #sk-container-id-4 div.sk-parallel-item::before {content: \"\";position: absolute;border-left: 1px solid gray;box-sizing: border-box;top: 0;bottom: 0;left: 50%;z-index: -1;}#sk-container-id-4 div.sk-parallel-item {display: flex;flex-direction: column;z-index: 1;position: relative;background-color: white;}#sk-container-id-4 div.sk-parallel-item:first-child::after {align-self: flex-end;width: 50%;}#sk-container-id-4 div.sk-parallel-item:last-child::after {align-self: flex-start;width: 50%;}#sk-container-id-4 div.sk-parallel-item:only-child::after {width: 0;}#sk-container-id-4 div.sk-dashed-wrapped {border: 1px dashed gray;margin: 0 0.4em 0.5em 0.4em;box-sizing: border-box;padding-bottom: 0.4em;background-color: white;}#sk-container-id-4 div.sk-label label {font-family: monospace;font-weight: bold;display: inline-block;line-height: 1.2em;}#sk-container-id-4 div.sk-label-container {text-align: center;}#sk-container-id-4 div.sk-container {/* jupyter's `normalize.less` sets `[hidden] { display: none; }` but bootstrap.min.css set `[hidden] { display: none !important; }` so we also need the `!important` here to be able to override the default hidden behavior on the sphinx rendered scikit-learn.org. See: https://github.com/scikit-learn/scikit-learn/issues/21755 */display: inline-block !important;position: relative;}#sk-container-id-4 div.sk-text-repr-fallback {display: none;}</style><div id=\"sk-container-id-4\" class=\"sk-top-container\"><div class=\"sk-text-repr-fallback\"><pre>LogisticRegression(max_iter=100000000000, n_jobs=-1)</pre><b>In a Jupyter environment, please rerun this cell to show the HTML representation or trust the notebook. <br />On GitHub, the HTML representation is unable to render, please try loading this page with nbviewer.org.</b></div><div class=\"sk-container\" hidden><div class=\"sk-item\"><div class=\"sk-estimator sk-toggleable\"><input class=\"sk-toggleable__control sk-hidden--visually\" id=\"sk-estimator-id-4\" type=\"checkbox\" checked><label for=\"sk-estimator-id-4\" class=\"sk-toggleable__label sk-toggleable__label-arrow\">LogisticRegression</label><div class=\"sk-toggleable__content\"><pre>LogisticRegression(max_iter=100000000000, n_jobs=-1)</pre></div></div></div></div></div>"
      ],
      "text/plain": [
       "LogisticRegression(max_iter=100000000000, n_jobs=-1)"
      ]
     },
     "execution_count": 32,
     "metadata": {},
     "output_type": "execute_result"
    }
   ],
   "source": [
    "lr = LogisticRegression(max_iter=100000000000, n_jobs= -1)\n",
    "lr.fit(x_train, y_train)"
   ]
  },
  {
   "cell_type": "code",
   "execution_count": 33,
   "metadata": {},
   "outputs": [
    {
     "name": "stdout",
     "output_type": "stream",
     "text": [
      "logistic Regression model\n",
      " train accuracy = 59.69208019832123%\n",
      "test accuracy = 59.82608695652174%\n",
      "              precision    recall  f1-score   support\n",
      "\n",
      "           0       0.61      0.56      0.58      1444\n",
      "           1       0.59      0.63      0.61      1431\n",
      "\n",
      "    accuracy                           0.60      2875\n",
      "   macro avg       0.60      0.60      0.60      2875\n",
      "weighted avg       0.60      0.60      0.60      2875\n",
      "\n",
      "Confusion Matrix\n",
      "[[812 632]\n",
      " [523 908]]\n"
     ]
    }
   ],
   "source": [
    "print('logistic Regression model')\n",
    "y_pred = lr.predict(x_train)\n",
    "acc = metrics.accuracy_score(y_train,y_pred)\n",
    "print (' train accuracy = '+str(acc*100)+'%')\n",
    "y_pred = lr.predict(x_validate)\n",
    "acc = metrics.accuracy_score(y_validate,y_pred)\n",
    "print ('test accuracy = '+str(acc*100)+'%')\n",
    "print (metrics.classification_report(y_validate,y_pred))\n",
    "print(\"Confusion Matrix\")\n",
    "print(metrics.confusion_matrix(y_validate,y_pred))"
   ]
  },
  {
   "cell_type": "code",
   "execution_count": 34,
   "metadata": {},
   "outputs": [
    {
     "data": {
      "text/html": [
       "<style>#sk-container-id-5 {color: black;background-color: white;}#sk-container-id-5 pre{padding: 0;}#sk-container-id-5 div.sk-toggleable {background-color: white;}#sk-container-id-5 label.sk-toggleable__label {cursor: pointer;display: block;width: 100%;margin-bottom: 0;padding: 0.3em;box-sizing: border-box;text-align: center;}#sk-container-id-5 label.sk-toggleable__label-arrow:before {content: \"▸\";float: left;margin-right: 0.25em;color: #696969;}#sk-container-id-5 label.sk-toggleable__label-arrow:hover:before {color: black;}#sk-container-id-5 div.sk-estimator:hover label.sk-toggleable__label-arrow:before {color: black;}#sk-container-id-5 div.sk-toggleable__content {max-height: 0;max-width: 0;overflow: hidden;text-align: left;background-color: #f0f8ff;}#sk-container-id-5 div.sk-toggleable__content pre {margin: 0.2em;color: black;border-radius: 0.25em;background-color: #f0f8ff;}#sk-container-id-5 input.sk-toggleable__control:checked~div.sk-toggleable__content {max-height: 200px;max-width: 100%;overflow: auto;}#sk-container-id-5 input.sk-toggleable__control:checked~label.sk-toggleable__label-arrow:before {content: \"▾\";}#sk-container-id-5 div.sk-estimator input.sk-toggleable__control:checked~label.sk-toggleable__label {background-color: #d4ebff;}#sk-container-id-5 div.sk-label input.sk-toggleable__control:checked~label.sk-toggleable__label {background-color: #d4ebff;}#sk-container-id-5 input.sk-hidden--visually {border: 0;clip: rect(1px 1px 1px 1px);clip: rect(1px, 1px, 1px, 1px);height: 1px;margin: -1px;overflow: hidden;padding: 0;position: absolute;width: 1px;}#sk-container-id-5 div.sk-estimator {font-family: monospace;background-color: #f0f8ff;border: 1px dotted black;border-radius: 0.25em;box-sizing: border-box;margin-bottom: 0.5em;}#sk-container-id-5 div.sk-estimator:hover {background-color: #d4ebff;}#sk-container-id-5 div.sk-parallel-item::after {content: \"\";width: 100%;border-bottom: 1px solid gray;flex-grow: 1;}#sk-container-id-5 div.sk-label:hover label.sk-toggleable__label {background-color: #d4ebff;}#sk-container-id-5 div.sk-serial::before {content: \"\";position: absolute;border-left: 1px solid gray;box-sizing: border-box;top: 0;bottom: 0;left: 50%;z-index: 0;}#sk-container-id-5 div.sk-serial {display: flex;flex-direction: column;align-items: center;background-color: white;padding-right: 0.2em;padding-left: 0.2em;position: relative;}#sk-container-id-5 div.sk-item {position: relative;z-index: 1;}#sk-container-id-5 div.sk-parallel {display: flex;align-items: stretch;justify-content: center;background-color: white;position: relative;}#sk-container-id-5 div.sk-item::before, #sk-container-id-5 div.sk-parallel-item::before {content: \"\";position: absolute;border-left: 1px solid gray;box-sizing: border-box;top: 0;bottom: 0;left: 50%;z-index: -1;}#sk-container-id-5 div.sk-parallel-item {display: flex;flex-direction: column;z-index: 1;position: relative;background-color: white;}#sk-container-id-5 div.sk-parallel-item:first-child::after {align-self: flex-end;width: 50%;}#sk-container-id-5 div.sk-parallel-item:last-child::after {align-self: flex-start;width: 50%;}#sk-container-id-5 div.sk-parallel-item:only-child::after {width: 0;}#sk-container-id-5 div.sk-dashed-wrapped {border: 1px dashed gray;margin: 0 0.4em 0.5em 0.4em;box-sizing: border-box;padding-bottom: 0.4em;background-color: white;}#sk-container-id-5 div.sk-label label {font-family: monospace;font-weight: bold;display: inline-block;line-height: 1.2em;}#sk-container-id-5 div.sk-label-container {text-align: center;}#sk-container-id-5 div.sk-container {/* jupyter's `normalize.less` sets `[hidden] { display: none; }` but bootstrap.min.css set `[hidden] { display: none !important; }` so we also need the `!important` here to be able to override the default hidden behavior on the sphinx rendered scikit-learn.org. See: https://github.com/scikit-learn/scikit-learn/issues/21755 */display: inline-block !important;position: relative;}#sk-container-id-5 div.sk-text-repr-fallback {display: none;}</style><div id=\"sk-container-id-5\" class=\"sk-top-container\"><div class=\"sk-text-repr-fallback\"><pre>DecisionTreeClassifier()</pre><b>In a Jupyter environment, please rerun this cell to show the HTML representation or trust the notebook. <br />On GitHub, the HTML representation is unable to render, please try loading this page with nbviewer.org.</b></div><div class=\"sk-container\" hidden><div class=\"sk-item\"><div class=\"sk-estimator sk-toggleable\"><input class=\"sk-toggleable__control sk-hidden--visually\" id=\"sk-estimator-id-5\" type=\"checkbox\" checked><label for=\"sk-estimator-id-5\" class=\"sk-toggleable__label sk-toggleable__label-arrow\">DecisionTreeClassifier</label><div class=\"sk-toggleable__content\"><pre>DecisionTreeClassifier()</pre></div></div></div></div></div>"
      ],
      "text/plain": [
       "DecisionTreeClassifier()"
      ]
     },
     "execution_count": 34,
     "metadata": {},
     "output_type": "execute_result"
    }
   ],
   "source": [
    "dt = DecisionTreeClassifier(criterion='gini')\n",
    "dt.fit(x_train, y_train)"
   ]
  },
  {
   "cell_type": "code",
   "execution_count": 35,
   "metadata": {},
   "outputs": [
    {
     "name": "stdout",
     "output_type": "stream",
     "text": [
      "Decision Tree\n",
      " train accuracy = 99.65641717044318%\n",
      "test accuracy = 79.13043478260869%\n",
      "              precision    recall  f1-score   support\n",
      "\n",
      "           0       0.82      0.75      0.78      1444\n",
      "           1       0.77      0.84      0.80      1431\n",
      "\n",
      "    accuracy                           0.79      2875\n",
      "   macro avg       0.79      0.79      0.79      2875\n",
      "weighted avg       0.79      0.79      0.79      2875\n",
      "\n",
      "Confusion Matrix\n",
      "[[1077  367]\n",
      " [ 233 1198]]\n"
     ]
    }
   ],
   "source": [
    "print('Decision Tree')\n",
    "y_pred = dt.predict(x_train)\n",
    "acc = metrics.accuracy_score(y_train,y_pred)\n",
    "print (' train accuracy = '+str(acc*100)+'%')\n",
    "y_pred = dt.predict(x_validate)\n",
    "acc = metrics.accuracy_score(y_validate,y_pred)\n",
    "print ('test accuracy = '+str(acc*100)+'%')\n",
    "print (metrics.classification_report(y_validate,y_pred))\n",
    "print(\"Confusion Matrix\")\n",
    "print(metrics.confusion_matrix(y_validate,y_pred))"
   ]
  },
  {
   "cell_type": "code",
   "execution_count": 36,
   "metadata": {},
   "outputs": [
    {
     "data": {
      "text/html": [
       "<style>#sk-container-id-6 {color: black;background-color: white;}#sk-container-id-6 pre{padding: 0;}#sk-container-id-6 div.sk-toggleable {background-color: white;}#sk-container-id-6 label.sk-toggleable__label {cursor: pointer;display: block;width: 100%;margin-bottom: 0;padding: 0.3em;box-sizing: border-box;text-align: center;}#sk-container-id-6 label.sk-toggleable__label-arrow:before {content: \"▸\";float: left;margin-right: 0.25em;color: #696969;}#sk-container-id-6 label.sk-toggleable__label-arrow:hover:before {color: black;}#sk-container-id-6 div.sk-estimator:hover label.sk-toggleable__label-arrow:before {color: black;}#sk-container-id-6 div.sk-toggleable__content {max-height: 0;max-width: 0;overflow: hidden;text-align: left;background-color: #f0f8ff;}#sk-container-id-6 div.sk-toggleable__content pre {margin: 0.2em;color: black;border-radius: 0.25em;background-color: #f0f8ff;}#sk-container-id-6 input.sk-toggleable__control:checked~div.sk-toggleable__content {max-height: 200px;max-width: 100%;overflow: auto;}#sk-container-id-6 input.sk-toggleable__control:checked~label.sk-toggleable__label-arrow:before {content: \"▾\";}#sk-container-id-6 div.sk-estimator input.sk-toggleable__control:checked~label.sk-toggleable__label {background-color: #d4ebff;}#sk-container-id-6 div.sk-label input.sk-toggleable__control:checked~label.sk-toggleable__label {background-color: #d4ebff;}#sk-container-id-6 input.sk-hidden--visually {border: 0;clip: rect(1px 1px 1px 1px);clip: rect(1px, 1px, 1px, 1px);height: 1px;margin: -1px;overflow: hidden;padding: 0;position: absolute;width: 1px;}#sk-container-id-6 div.sk-estimator {font-family: monospace;background-color: #f0f8ff;border: 1px dotted black;border-radius: 0.25em;box-sizing: border-box;margin-bottom: 0.5em;}#sk-container-id-6 div.sk-estimator:hover {background-color: #d4ebff;}#sk-container-id-6 div.sk-parallel-item::after {content: \"\";width: 100%;border-bottom: 1px solid gray;flex-grow: 1;}#sk-container-id-6 div.sk-label:hover label.sk-toggleable__label {background-color: #d4ebff;}#sk-container-id-6 div.sk-serial::before {content: \"\";position: absolute;border-left: 1px solid gray;box-sizing: border-box;top: 0;bottom: 0;left: 50%;z-index: 0;}#sk-container-id-6 div.sk-serial {display: flex;flex-direction: column;align-items: center;background-color: white;padding-right: 0.2em;padding-left: 0.2em;position: relative;}#sk-container-id-6 div.sk-item {position: relative;z-index: 1;}#sk-container-id-6 div.sk-parallel {display: flex;align-items: stretch;justify-content: center;background-color: white;position: relative;}#sk-container-id-6 div.sk-item::before, #sk-container-id-6 div.sk-parallel-item::before {content: \"\";position: absolute;border-left: 1px solid gray;box-sizing: border-box;top: 0;bottom: 0;left: 50%;z-index: -1;}#sk-container-id-6 div.sk-parallel-item {display: flex;flex-direction: column;z-index: 1;position: relative;background-color: white;}#sk-container-id-6 div.sk-parallel-item:first-child::after {align-self: flex-end;width: 50%;}#sk-container-id-6 div.sk-parallel-item:last-child::after {align-self: flex-start;width: 50%;}#sk-container-id-6 div.sk-parallel-item:only-child::after {width: 0;}#sk-container-id-6 div.sk-dashed-wrapped {border: 1px dashed gray;margin: 0 0.4em 0.5em 0.4em;box-sizing: border-box;padding-bottom: 0.4em;background-color: white;}#sk-container-id-6 div.sk-label label {font-family: monospace;font-weight: bold;display: inline-block;line-height: 1.2em;}#sk-container-id-6 div.sk-label-container {text-align: center;}#sk-container-id-6 div.sk-container {/* jupyter's `normalize.less` sets `[hidden] { display: none; }` but bootstrap.min.css set `[hidden] { display: none !important; }` so we also need the `!important` here to be able to override the default hidden behavior on the sphinx rendered scikit-learn.org. See: https://github.com/scikit-learn/scikit-learn/issues/21755 */display: inline-block !important;position: relative;}#sk-container-id-6 div.sk-text-repr-fallback {display: none;}</style><div id=\"sk-container-id-6\" class=\"sk-top-container\"><div class=\"sk-text-repr-fallback\"><pre>RandomForestClassifier(criterion=&#x27;log_loss&#x27;, n_estimators=300)</pre><b>In a Jupyter environment, please rerun this cell to show the HTML representation or trust the notebook. <br />On GitHub, the HTML representation is unable to render, please try loading this page with nbviewer.org.</b></div><div class=\"sk-container\" hidden><div class=\"sk-item\"><div class=\"sk-estimator sk-toggleable\"><input class=\"sk-toggleable__control sk-hidden--visually\" id=\"sk-estimator-id-6\" type=\"checkbox\" checked><label for=\"sk-estimator-id-6\" class=\"sk-toggleable__label sk-toggleable__label-arrow\">RandomForestClassifier</label><div class=\"sk-toggleable__content\"><pre>RandomForestClassifier(criterion=&#x27;log_loss&#x27;, n_estimators=300)</pre></div></div></div></div></div>"
      ],
      "text/plain": [
       "RandomForestClassifier(criterion='log_loss', n_estimators=300)"
      ]
     },
     "execution_count": 36,
     "metadata": {},
     "output_type": "execute_result"
    }
   ],
   "source": [
    "rf = RandomForestClassifier(criterion='log_loss', n_estimators=300)\n",
    "rf.fit(x_train, y_train)"
   ]
  },
  {
   "cell_type": "code",
   "execution_count": 37,
   "metadata": {},
   "outputs": [
    {
     "name": "stdout",
     "output_type": "stream",
     "text": [
      "Random Forest\n",
      " train accuracy = 99.65641717044318%\n",
      "test accuracy = 84.27826086956522%\n",
      "              precision    recall  f1-score   support\n",
      "\n",
      "           0       0.86      0.82      0.84      1444\n",
      "           1       0.83      0.86      0.85      1431\n",
      "\n",
      "    accuracy                           0.84      2875\n",
      "   macro avg       0.84      0.84      0.84      2875\n",
      "weighted avg       0.84      0.84      0.84      2875\n",
      "\n",
      "Confusion Matrix\n",
      "[[1189  255]\n",
      " [ 197 1234]]\n"
     ]
    }
   ],
   "source": [
    "print('Random Forest')\n",
    "y_pred = rf.predict(x_train)\n",
    "acc = metrics.accuracy_score(y_train,y_pred)\n",
    "print (' train accuracy = '+str(acc*100)+'%')\n",
    "y_pred = rf.predict(x_validate)\n",
    "acc = metrics.accuracy_score(y_validate,y_pred)\n",
    "print ('test accuracy = '+str(acc*100)+'%')\n",
    "print (metrics.classification_report(y_validate,y_pred))\n",
    "print(\"Confusion Matrix\")\n",
    "print(metrics.confusion_matrix(y_validate,y_pred))"
   ]
  },
  {
   "attachments": {},
   "cell_type": "markdown",
   "metadata": {},
   "source": [
    "<h1>Random Oversampling</h1>"
   ]
  },
  {
   "cell_type": "code",
   "execution_count": 38,
   "metadata": {},
   "outputs": [],
   "source": [
    "ros = RandomOverSampler(sampling_strategy=1)\n",
    "X_ros, y_ros = ros.fit_resample(X, y)"
   ]
  },
  {
   "cell_type": "code",
   "execution_count": 39,
   "metadata": {},
   "outputs": [],
   "source": [
    "x_train, x_validate, y_train, y_validate = train_test_split(X_ros, y_ros,train_size= 0.80, test_size= 0.10, random_state=42)"
   ]
  },
  {
   "cell_type": "code",
   "execution_count": 40,
   "metadata": {},
   "outputs": [
    {
     "data": {
      "text/html": [
       "<style>#sk-container-id-7 {color: black;background-color: white;}#sk-container-id-7 pre{padding: 0;}#sk-container-id-7 div.sk-toggleable {background-color: white;}#sk-container-id-7 label.sk-toggleable__label {cursor: pointer;display: block;width: 100%;margin-bottom: 0;padding: 0.3em;box-sizing: border-box;text-align: center;}#sk-container-id-7 label.sk-toggleable__label-arrow:before {content: \"▸\";float: left;margin-right: 0.25em;color: #696969;}#sk-container-id-7 label.sk-toggleable__label-arrow:hover:before {color: black;}#sk-container-id-7 div.sk-estimator:hover label.sk-toggleable__label-arrow:before {color: black;}#sk-container-id-7 div.sk-toggleable__content {max-height: 0;max-width: 0;overflow: hidden;text-align: left;background-color: #f0f8ff;}#sk-container-id-7 div.sk-toggleable__content pre {margin: 0.2em;color: black;border-radius: 0.25em;background-color: #f0f8ff;}#sk-container-id-7 input.sk-toggleable__control:checked~div.sk-toggleable__content {max-height: 200px;max-width: 100%;overflow: auto;}#sk-container-id-7 input.sk-toggleable__control:checked~label.sk-toggleable__label-arrow:before {content: \"▾\";}#sk-container-id-7 div.sk-estimator input.sk-toggleable__control:checked~label.sk-toggleable__label {background-color: #d4ebff;}#sk-container-id-7 div.sk-label input.sk-toggleable__control:checked~label.sk-toggleable__label {background-color: #d4ebff;}#sk-container-id-7 input.sk-hidden--visually {border: 0;clip: rect(1px 1px 1px 1px);clip: rect(1px, 1px, 1px, 1px);height: 1px;margin: -1px;overflow: hidden;padding: 0;position: absolute;width: 1px;}#sk-container-id-7 div.sk-estimator {font-family: monospace;background-color: #f0f8ff;border: 1px dotted black;border-radius: 0.25em;box-sizing: border-box;margin-bottom: 0.5em;}#sk-container-id-7 div.sk-estimator:hover {background-color: #d4ebff;}#sk-container-id-7 div.sk-parallel-item::after {content: \"\";width: 100%;border-bottom: 1px solid gray;flex-grow: 1;}#sk-container-id-7 div.sk-label:hover label.sk-toggleable__label {background-color: #d4ebff;}#sk-container-id-7 div.sk-serial::before {content: \"\";position: absolute;border-left: 1px solid gray;box-sizing: border-box;top: 0;bottom: 0;left: 50%;z-index: 0;}#sk-container-id-7 div.sk-serial {display: flex;flex-direction: column;align-items: center;background-color: white;padding-right: 0.2em;padding-left: 0.2em;position: relative;}#sk-container-id-7 div.sk-item {position: relative;z-index: 1;}#sk-container-id-7 div.sk-parallel {display: flex;align-items: stretch;justify-content: center;background-color: white;position: relative;}#sk-container-id-7 div.sk-item::before, #sk-container-id-7 div.sk-parallel-item::before {content: \"\";position: absolute;border-left: 1px solid gray;box-sizing: border-box;top: 0;bottom: 0;left: 50%;z-index: -1;}#sk-container-id-7 div.sk-parallel-item {display: flex;flex-direction: column;z-index: 1;position: relative;background-color: white;}#sk-container-id-7 div.sk-parallel-item:first-child::after {align-self: flex-end;width: 50%;}#sk-container-id-7 div.sk-parallel-item:last-child::after {align-self: flex-start;width: 50%;}#sk-container-id-7 div.sk-parallel-item:only-child::after {width: 0;}#sk-container-id-7 div.sk-dashed-wrapped {border: 1px dashed gray;margin: 0 0.4em 0.5em 0.4em;box-sizing: border-box;padding-bottom: 0.4em;background-color: white;}#sk-container-id-7 div.sk-label label {font-family: monospace;font-weight: bold;display: inline-block;line-height: 1.2em;}#sk-container-id-7 div.sk-label-container {text-align: center;}#sk-container-id-7 div.sk-container {/* jupyter's `normalize.less` sets `[hidden] { display: none; }` but bootstrap.min.css set `[hidden] { display: none !important; }` so we also need the `!important` here to be able to override the default hidden behavior on the sphinx rendered scikit-learn.org. See: https://github.com/scikit-learn/scikit-learn/issues/21755 */display: inline-block !important;position: relative;}#sk-container-id-7 div.sk-text-repr-fallback {display: none;}</style><div id=\"sk-container-id-7\" class=\"sk-top-container\"><div class=\"sk-text-repr-fallback\"><pre>LogisticRegression(max_iter=100000000000, n_jobs=-1)</pre><b>In a Jupyter environment, please rerun this cell to show the HTML representation or trust the notebook. <br />On GitHub, the HTML representation is unable to render, please try loading this page with nbviewer.org.</b></div><div class=\"sk-container\" hidden><div class=\"sk-item\"><div class=\"sk-estimator sk-toggleable\"><input class=\"sk-toggleable__control sk-hidden--visually\" id=\"sk-estimator-id-7\" type=\"checkbox\" checked><label for=\"sk-estimator-id-7\" class=\"sk-toggleable__label sk-toggleable__label-arrow\">LogisticRegression</label><div class=\"sk-toggleable__content\"><pre>LogisticRegression(max_iter=100000000000, n_jobs=-1)</pre></div></div></div></div></div>"
      ],
      "text/plain": [
       "LogisticRegression(max_iter=100000000000, n_jobs=-1)"
      ]
     },
     "execution_count": 40,
     "metadata": {},
     "output_type": "execute_result"
    }
   ],
   "source": [
    "lr = LogisticRegression(max_iter=100000000000, n_jobs= -1)\n",
    "lr.fit(x_train, y_train)"
   ]
  },
  {
   "cell_type": "code",
   "execution_count": 41,
   "metadata": {},
   "outputs": [
    {
     "name": "stdout",
     "output_type": "stream",
     "text": [
      "Linear Regression model\n",
      " train accuracy = 60.0221506681776%\n",
      "test accuracy = 60.1008199750859%\n",
      "              precision    recall  f1-score   support\n",
      "\n",
      "           0       0.61      0.57      0.59    146128\n",
      "           1       0.60      0.63      0.61    146076\n",
      "\n",
      "    accuracy                           0.60    292204\n",
      "   macro avg       0.60      0.60      0.60    292204\n",
      "weighted avg       0.60      0.60      0.60    292204\n",
      "\n",
      "Confusion Matrix\n",
      "[[83487 62641]\n",
      " [53946 92130]]\n"
     ]
    }
   ],
   "source": [
    "print('Linear Regression model')\n",
    "y_pred = lr.predict(x_train)\n",
    "acc = metrics.accuracy_score(y_train,y_pred)\n",
    "print (' train accuracy = '+str(acc*100)+'%')\n",
    "y_pred = lr.predict(x_validate)\n",
    "acc = metrics.accuracy_score(y_validate,y_pred)\n",
    "print ('test accuracy = '+str(acc*100)+'%')\n",
    "print (metrics.classification_report(y_validate,y_pred))\n",
    "print(\"Confusion Matrix\")\n",
    "print(metrics.confusion_matrix(y_validate,y_pred))"
   ]
  },
  {
   "cell_type": "code",
   "execution_count": 42,
   "metadata": {},
   "outputs": [
    {
     "data": {
      "text/html": [
       "<style>#sk-container-id-8 {color: black;background-color: white;}#sk-container-id-8 pre{padding: 0;}#sk-container-id-8 div.sk-toggleable {background-color: white;}#sk-container-id-8 label.sk-toggleable__label {cursor: pointer;display: block;width: 100%;margin-bottom: 0;padding: 0.3em;box-sizing: border-box;text-align: center;}#sk-container-id-8 label.sk-toggleable__label-arrow:before {content: \"▸\";float: left;margin-right: 0.25em;color: #696969;}#sk-container-id-8 label.sk-toggleable__label-arrow:hover:before {color: black;}#sk-container-id-8 div.sk-estimator:hover label.sk-toggleable__label-arrow:before {color: black;}#sk-container-id-8 div.sk-toggleable__content {max-height: 0;max-width: 0;overflow: hidden;text-align: left;background-color: #f0f8ff;}#sk-container-id-8 div.sk-toggleable__content pre {margin: 0.2em;color: black;border-radius: 0.25em;background-color: #f0f8ff;}#sk-container-id-8 input.sk-toggleable__control:checked~div.sk-toggleable__content {max-height: 200px;max-width: 100%;overflow: auto;}#sk-container-id-8 input.sk-toggleable__control:checked~label.sk-toggleable__label-arrow:before {content: \"▾\";}#sk-container-id-8 div.sk-estimator input.sk-toggleable__control:checked~label.sk-toggleable__label {background-color: #d4ebff;}#sk-container-id-8 div.sk-label input.sk-toggleable__control:checked~label.sk-toggleable__label {background-color: #d4ebff;}#sk-container-id-8 input.sk-hidden--visually {border: 0;clip: rect(1px 1px 1px 1px);clip: rect(1px, 1px, 1px, 1px);height: 1px;margin: -1px;overflow: hidden;padding: 0;position: absolute;width: 1px;}#sk-container-id-8 div.sk-estimator {font-family: monospace;background-color: #f0f8ff;border: 1px dotted black;border-radius: 0.25em;box-sizing: border-box;margin-bottom: 0.5em;}#sk-container-id-8 div.sk-estimator:hover {background-color: #d4ebff;}#sk-container-id-8 div.sk-parallel-item::after {content: \"\";width: 100%;border-bottom: 1px solid gray;flex-grow: 1;}#sk-container-id-8 div.sk-label:hover label.sk-toggleable__label {background-color: #d4ebff;}#sk-container-id-8 div.sk-serial::before {content: \"\";position: absolute;border-left: 1px solid gray;box-sizing: border-box;top: 0;bottom: 0;left: 50%;z-index: 0;}#sk-container-id-8 div.sk-serial {display: flex;flex-direction: column;align-items: center;background-color: white;padding-right: 0.2em;padding-left: 0.2em;position: relative;}#sk-container-id-8 div.sk-item {position: relative;z-index: 1;}#sk-container-id-8 div.sk-parallel {display: flex;align-items: stretch;justify-content: center;background-color: white;position: relative;}#sk-container-id-8 div.sk-item::before, #sk-container-id-8 div.sk-parallel-item::before {content: \"\";position: absolute;border-left: 1px solid gray;box-sizing: border-box;top: 0;bottom: 0;left: 50%;z-index: -1;}#sk-container-id-8 div.sk-parallel-item {display: flex;flex-direction: column;z-index: 1;position: relative;background-color: white;}#sk-container-id-8 div.sk-parallel-item:first-child::after {align-self: flex-end;width: 50%;}#sk-container-id-8 div.sk-parallel-item:last-child::after {align-self: flex-start;width: 50%;}#sk-container-id-8 div.sk-parallel-item:only-child::after {width: 0;}#sk-container-id-8 div.sk-dashed-wrapped {border: 1px dashed gray;margin: 0 0.4em 0.5em 0.4em;box-sizing: border-box;padding-bottom: 0.4em;background-color: white;}#sk-container-id-8 div.sk-label label {font-family: monospace;font-weight: bold;display: inline-block;line-height: 1.2em;}#sk-container-id-8 div.sk-label-container {text-align: center;}#sk-container-id-8 div.sk-container {/* jupyter's `normalize.less` sets `[hidden] { display: none; }` but bootstrap.min.css set `[hidden] { display: none !important; }` so we also need the `!important` here to be able to override the default hidden behavior on the sphinx rendered scikit-learn.org. See: https://github.com/scikit-learn/scikit-learn/issues/21755 */display: inline-block !important;position: relative;}#sk-container-id-8 div.sk-text-repr-fallback {display: none;}</style><div id=\"sk-container-id-8\" class=\"sk-top-container\"><div class=\"sk-text-repr-fallback\"><pre>DecisionTreeClassifier()</pre><b>In a Jupyter environment, please rerun this cell to show the HTML representation or trust the notebook. <br />On GitHub, the HTML representation is unable to render, please try loading this page with nbviewer.org.</b></div><div class=\"sk-container\" hidden><div class=\"sk-item\"><div class=\"sk-estimator sk-toggleable\"><input class=\"sk-toggleable__control sk-hidden--visually\" id=\"sk-estimator-id-8\" type=\"checkbox\" checked><label for=\"sk-estimator-id-8\" class=\"sk-toggleable__label sk-toggleable__label-arrow\">DecisionTreeClassifier</label><div class=\"sk-toggleable__content\"><pre>DecisionTreeClassifier()</pre></div></div></div></div></div>"
      ],
      "text/plain": [
       "DecisionTreeClassifier()"
      ]
     },
     "execution_count": 42,
     "metadata": {},
     "output_type": "execute_result"
    }
   ],
   "source": [
    "dt = DecisionTreeClassifier(criterion='gini')\n",
    "dt.fit(x_train, y_train)"
   ]
  },
  {
   "cell_type": "code",
   "execution_count": 43,
   "metadata": {},
   "outputs": [
    {
     "name": "stdout",
     "output_type": "stream",
     "text": [
      "Decision Tree\n",
      " train accuracy = 99.55989556931024%\n",
      "test accuracy = 99.35935168580855%\n",
      "              precision    recall  f1-score   support\n",
      "\n",
      "           0       1.00      0.99      0.99    146128\n",
      "           1       0.99      1.00      0.99    146076\n",
      "\n",
      "    accuracy                           0.99    292204\n",
      "   macro avg       0.99      0.99      0.99    292204\n",
      "weighted avg       0.99      0.99      0.99    292204\n",
      "\n",
      "Confusion Matrix\n",
      "[[144664   1464]\n",
      " [   408 145668]]\n"
     ]
    }
   ],
   "source": [
    "print('Decision Tree')\n",
    "y_pred = dt.predict(x_train)\n",
    "acc = metrics.accuracy_score(y_train,y_pred)\n",
    "print (' train accuracy = '+str(acc*100)+'%')\n",
    "y_pred = dt.predict(x_validate)\n",
    "acc = metrics.accuracy_score(y_validate,y_pred)\n",
    "print ('test accuracy = '+str(acc*100)+'%')\n",
    "print (metrics.classification_report(y_validate,y_pred))\n",
    "print(\"Confusion Matrix\")\n",
    "print(metrics.confusion_matrix(y_validate,y_pred))"
   ]
  },
  {
   "cell_type": "code",
   "execution_count": 44,
   "metadata": {},
   "outputs": [
    {
     "data": {
      "text/html": [
       "<style>#sk-container-id-9 {color: black;background-color: white;}#sk-container-id-9 pre{padding: 0;}#sk-container-id-9 div.sk-toggleable {background-color: white;}#sk-container-id-9 label.sk-toggleable__label {cursor: pointer;display: block;width: 100%;margin-bottom: 0;padding: 0.3em;box-sizing: border-box;text-align: center;}#sk-container-id-9 label.sk-toggleable__label-arrow:before {content: \"▸\";float: left;margin-right: 0.25em;color: #696969;}#sk-container-id-9 label.sk-toggleable__label-arrow:hover:before {color: black;}#sk-container-id-9 div.sk-estimator:hover label.sk-toggleable__label-arrow:before {color: black;}#sk-container-id-9 div.sk-toggleable__content {max-height: 0;max-width: 0;overflow: hidden;text-align: left;background-color: #f0f8ff;}#sk-container-id-9 div.sk-toggleable__content pre {margin: 0.2em;color: black;border-radius: 0.25em;background-color: #f0f8ff;}#sk-container-id-9 input.sk-toggleable__control:checked~div.sk-toggleable__content {max-height: 200px;max-width: 100%;overflow: auto;}#sk-container-id-9 input.sk-toggleable__control:checked~label.sk-toggleable__label-arrow:before {content: \"▾\";}#sk-container-id-9 div.sk-estimator input.sk-toggleable__control:checked~label.sk-toggleable__label {background-color: #d4ebff;}#sk-container-id-9 div.sk-label input.sk-toggleable__control:checked~label.sk-toggleable__label {background-color: #d4ebff;}#sk-container-id-9 input.sk-hidden--visually {border: 0;clip: rect(1px 1px 1px 1px);clip: rect(1px, 1px, 1px, 1px);height: 1px;margin: -1px;overflow: hidden;padding: 0;position: absolute;width: 1px;}#sk-container-id-9 div.sk-estimator {font-family: monospace;background-color: #f0f8ff;border: 1px dotted black;border-radius: 0.25em;box-sizing: border-box;margin-bottom: 0.5em;}#sk-container-id-9 div.sk-estimator:hover {background-color: #d4ebff;}#sk-container-id-9 div.sk-parallel-item::after {content: \"\";width: 100%;border-bottom: 1px solid gray;flex-grow: 1;}#sk-container-id-9 div.sk-label:hover label.sk-toggleable__label {background-color: #d4ebff;}#sk-container-id-9 div.sk-serial::before {content: \"\";position: absolute;border-left: 1px solid gray;box-sizing: border-box;top: 0;bottom: 0;left: 50%;z-index: 0;}#sk-container-id-9 div.sk-serial {display: flex;flex-direction: column;align-items: center;background-color: white;padding-right: 0.2em;padding-left: 0.2em;position: relative;}#sk-container-id-9 div.sk-item {position: relative;z-index: 1;}#sk-container-id-9 div.sk-parallel {display: flex;align-items: stretch;justify-content: center;background-color: white;position: relative;}#sk-container-id-9 div.sk-item::before, #sk-container-id-9 div.sk-parallel-item::before {content: \"\";position: absolute;border-left: 1px solid gray;box-sizing: border-box;top: 0;bottom: 0;left: 50%;z-index: -1;}#sk-container-id-9 div.sk-parallel-item {display: flex;flex-direction: column;z-index: 1;position: relative;background-color: white;}#sk-container-id-9 div.sk-parallel-item:first-child::after {align-self: flex-end;width: 50%;}#sk-container-id-9 div.sk-parallel-item:last-child::after {align-self: flex-start;width: 50%;}#sk-container-id-9 div.sk-parallel-item:only-child::after {width: 0;}#sk-container-id-9 div.sk-dashed-wrapped {border: 1px dashed gray;margin: 0 0.4em 0.5em 0.4em;box-sizing: border-box;padding-bottom: 0.4em;background-color: white;}#sk-container-id-9 div.sk-label label {font-family: monospace;font-weight: bold;display: inline-block;line-height: 1.2em;}#sk-container-id-9 div.sk-label-container {text-align: center;}#sk-container-id-9 div.sk-container {/* jupyter's `normalize.less` sets `[hidden] { display: none; }` but bootstrap.min.css set `[hidden] { display: none !important; }` so we also need the `!important` here to be able to override the default hidden behavior on the sphinx rendered scikit-learn.org. See: https://github.com/scikit-learn/scikit-learn/issues/21755 */display: inline-block !important;position: relative;}#sk-container-id-9 div.sk-text-repr-fallback {display: none;}</style><div id=\"sk-container-id-9\" class=\"sk-top-container\"><div class=\"sk-text-repr-fallback\"><pre>RandomForestClassifier(criterion=&#x27;log_loss&#x27;, n_estimators=300)</pre><b>In a Jupyter environment, please rerun this cell to show the HTML representation or trust the notebook. <br />On GitHub, the HTML representation is unable to render, please try loading this page with nbviewer.org.</b></div><div class=\"sk-container\" hidden><div class=\"sk-item\"><div class=\"sk-estimator sk-toggleable\"><input class=\"sk-toggleable__control sk-hidden--visually\" id=\"sk-estimator-id-9\" type=\"checkbox\" checked><label for=\"sk-estimator-id-9\" class=\"sk-toggleable__label sk-toggleable__label-arrow\">RandomForestClassifier</label><div class=\"sk-toggleable__content\"><pre>RandomForestClassifier(criterion=&#x27;log_loss&#x27;, n_estimators=300)</pre></div></div></div></div></div>"
      ],
      "text/plain": [
       "RandomForestClassifier(criterion='log_loss', n_estimators=300)"
      ]
     },
     "execution_count": 44,
     "metadata": {},
     "output_type": "execute_result"
    }
   ],
   "source": [
    "rf = RandomForestClassifier(criterion='log_loss', n_estimators=300)\n",
    "rf.fit(x_train, y_train)"
   ]
  },
  {
   "cell_type": "code",
   "execution_count": 45,
   "metadata": {},
   "outputs": [
    {
     "name": "stdout",
     "output_type": "stream",
     "text": [
      "Random Forest\n",
      " train accuracy = 99.5598527908858%\n",
      "test accuracy = 99.45141065830721%\n",
      "              precision    recall  f1-score   support\n",
      "\n",
      "           0       1.00      0.99      0.99    146128\n",
      "           1       0.99      1.00      0.99    146076\n",
      "\n",
      "    accuracy                           0.99    292204\n",
      "   macro avg       0.99      0.99      0.99    292204\n",
      "weighted avg       0.99      0.99      0.99    292204\n",
      "\n",
      "Confusion Matrix\n",
      "[[144925   1203]\n",
      " [   400 145676]]\n"
     ]
    }
   ],
   "source": [
    "print('Random Forest')\n",
    "y_pred = rf.predict(x_train)\n",
    "acc = metrics.accuracy_score(y_train,y_pred)\n",
    "print (' train accuracy = '+str(acc*100)+'%')\n",
    "y_pred = rf.predict(x_validate)\n",
    "acc = metrics.accuracy_score(y_validate,y_pred)\n",
    "print ('test accuracy = '+str(acc*100)+'%')\n",
    "print (metrics.classification_report(y_validate,y_pred))\n",
    "print(\"Confusion Matrix\")\n",
    "print(metrics.confusion_matrix(y_validate,y_pred))"
   ]
  },
  {
   "attachments": {},
   "cell_type": "markdown",
   "metadata": {},
   "source": [
    "<h2> Best Model is Random Forests with Oversampling </h2>"
   ]
  },
  {
   "attachments": {},
   "cell_type": "markdown",
   "metadata": {},
   "source": [
    "<h1> Final Model and Testing </h1>"
   ]
  },
  {
   "attachments": {},
   "cell_type": "markdown",
   "metadata": {},
   "source": [
    "sense the best results were training using the random oversampling that will be the model we will be using and the final test will be on the Random forests and through this we will check if the final model is overfitting or not"
   ]
  },
  {
   "cell_type": "code",
   "execution_count": 46,
   "metadata": {},
   "outputs": [],
   "source": [
    "X_test = testdf.drop(columns='is_lead')\n",
    "y_test = testdf['is_lead']"
   ]
  },
  {
   "cell_type": "code",
   "execution_count": 47,
   "metadata": {},
   "outputs": [
    {
     "data": {
      "text/html": [
       "<style>#sk-container-id-10 {color: black;background-color: white;}#sk-container-id-10 pre{padding: 0;}#sk-container-id-10 div.sk-toggleable {background-color: white;}#sk-container-id-10 label.sk-toggleable__label {cursor: pointer;display: block;width: 100%;margin-bottom: 0;padding: 0.3em;box-sizing: border-box;text-align: center;}#sk-container-id-10 label.sk-toggleable__label-arrow:before {content: \"▸\";float: left;margin-right: 0.25em;color: #696969;}#sk-container-id-10 label.sk-toggleable__label-arrow:hover:before {color: black;}#sk-container-id-10 div.sk-estimator:hover label.sk-toggleable__label-arrow:before {color: black;}#sk-container-id-10 div.sk-toggleable__content {max-height: 0;max-width: 0;overflow: hidden;text-align: left;background-color: #f0f8ff;}#sk-container-id-10 div.sk-toggleable__content pre {margin: 0.2em;color: black;border-radius: 0.25em;background-color: #f0f8ff;}#sk-container-id-10 input.sk-toggleable__control:checked~div.sk-toggleable__content {max-height: 200px;max-width: 100%;overflow: auto;}#sk-container-id-10 input.sk-toggleable__control:checked~label.sk-toggleable__label-arrow:before {content: \"▾\";}#sk-container-id-10 div.sk-estimator input.sk-toggleable__control:checked~label.sk-toggleable__label {background-color: #d4ebff;}#sk-container-id-10 div.sk-label input.sk-toggleable__control:checked~label.sk-toggleable__label {background-color: #d4ebff;}#sk-container-id-10 input.sk-hidden--visually {border: 0;clip: rect(1px 1px 1px 1px);clip: rect(1px, 1px, 1px, 1px);height: 1px;margin: -1px;overflow: hidden;padding: 0;position: absolute;width: 1px;}#sk-container-id-10 div.sk-estimator {font-family: monospace;background-color: #f0f8ff;border: 1px dotted black;border-radius: 0.25em;box-sizing: border-box;margin-bottom: 0.5em;}#sk-container-id-10 div.sk-estimator:hover {background-color: #d4ebff;}#sk-container-id-10 div.sk-parallel-item::after {content: \"\";width: 100%;border-bottom: 1px solid gray;flex-grow: 1;}#sk-container-id-10 div.sk-label:hover label.sk-toggleable__label {background-color: #d4ebff;}#sk-container-id-10 div.sk-serial::before {content: \"\";position: absolute;border-left: 1px solid gray;box-sizing: border-box;top: 0;bottom: 0;left: 50%;z-index: 0;}#sk-container-id-10 div.sk-serial {display: flex;flex-direction: column;align-items: center;background-color: white;padding-right: 0.2em;padding-left: 0.2em;position: relative;}#sk-container-id-10 div.sk-item {position: relative;z-index: 1;}#sk-container-id-10 div.sk-parallel {display: flex;align-items: stretch;justify-content: center;background-color: white;position: relative;}#sk-container-id-10 div.sk-item::before, #sk-container-id-10 div.sk-parallel-item::before {content: \"\";position: absolute;border-left: 1px solid gray;box-sizing: border-box;top: 0;bottom: 0;left: 50%;z-index: -1;}#sk-container-id-10 div.sk-parallel-item {display: flex;flex-direction: column;z-index: 1;position: relative;background-color: white;}#sk-container-id-10 div.sk-parallel-item:first-child::after {align-self: flex-end;width: 50%;}#sk-container-id-10 div.sk-parallel-item:last-child::after {align-self: flex-start;width: 50%;}#sk-container-id-10 div.sk-parallel-item:only-child::after {width: 0;}#sk-container-id-10 div.sk-dashed-wrapped {border: 1px dashed gray;margin: 0 0.4em 0.5em 0.4em;box-sizing: border-box;padding-bottom: 0.4em;background-color: white;}#sk-container-id-10 div.sk-label label {font-family: monospace;font-weight: bold;display: inline-block;line-height: 1.2em;}#sk-container-id-10 div.sk-label-container {text-align: center;}#sk-container-id-10 div.sk-container {/* jupyter's `normalize.less` sets `[hidden] { display: none; }` but bootstrap.min.css set `[hidden] { display: none !important; }` so we also need the `!important` here to be able to override the default hidden behavior on the sphinx rendered scikit-learn.org. See: https://github.com/scikit-learn/scikit-learn/issues/21755 */display: inline-block !important;position: relative;}#sk-container-id-10 div.sk-text-repr-fallback {display: none;}</style><div id=\"sk-container-id-10\" class=\"sk-top-container\"><div class=\"sk-text-repr-fallback\"><pre>DecisionTreeClassifier()</pre><b>In a Jupyter environment, please rerun this cell to show the HTML representation or trust the notebook. <br />On GitHub, the HTML representation is unable to render, please try loading this page with nbviewer.org.</b></div><div class=\"sk-container\" hidden><div class=\"sk-item\"><div class=\"sk-estimator sk-toggleable\"><input class=\"sk-toggleable__control sk-hidden--visually\" id=\"sk-estimator-id-10\" type=\"checkbox\" checked><label for=\"sk-estimator-id-10\" class=\"sk-toggleable__label sk-toggleable__label-arrow\">DecisionTreeClassifier</label><div class=\"sk-toggleable__content\"><pre>DecisionTreeClassifier()</pre></div></div></div></div></div>"
      ],
      "text/plain": [
       "DecisionTreeClassifier()"
      ]
     },
     "execution_count": 47,
     "metadata": {},
     "output_type": "execute_result"
    }
   ],
   "source": [
    "dt = DecisionTreeClassifier(criterion='gini')\n",
    "dt.fit(X_ros, y_ros)"
   ]
  },
  {
   "cell_type": "code",
   "execution_count": 48,
   "metadata": {},
   "outputs": [
    {
     "name": "stdout",
     "output_type": "stream",
     "text": [
      "Decision Tree\n",
      " train accuracy = 99.56396811262293%\n",
      "test accuracy = 98.62320962350243%\n",
      "              precision    recall  f1-score   support\n",
      "\n",
      "           0       1.00      0.99      0.99    162345\n",
      "           1       0.36      0.55      0.43      1587\n",
      "\n",
      "    accuracy                           0.99    163932\n",
      "   macro avg       0.68      0.77      0.71    163932\n",
      "weighted avg       0.99      0.99      0.99    163932\n",
      "\n",
      "Confusion Matrix\n",
      "[[160808   1537]\n",
      " [   720    867]]\n"
     ]
    }
   ],
   "source": [
    "print('Decision Tree')\n",
    "y_pred = dt.predict(X_ros)\n",
    "acc = metrics.accuracy_score(y_ros,y_pred)\n",
    "print (' train accuracy = '+str(acc*100)+'%')\n",
    "y_pred = dt.predict(X_test)\n",
    "acc = metrics.accuracy_score(y_test,y_pred)\n",
    "print ('test accuracy = '+str(acc*100)+'%')\n",
    "print (metrics.classification_report(y_test,y_pred))\n",
    "print(\"Confusion Matrix\")\n",
    "print(metrics.confusion_matrix(y_test,y_pred))"
   ]
  },
  {
   "cell_type": "code",
   "execution_count": 49,
   "metadata": {},
   "outputs": [
    {
     "data": {
      "text/html": [
       "<style>#sk-container-id-11 {color: black;background-color: white;}#sk-container-id-11 pre{padding: 0;}#sk-container-id-11 div.sk-toggleable {background-color: white;}#sk-container-id-11 label.sk-toggleable__label {cursor: pointer;display: block;width: 100%;margin-bottom: 0;padding: 0.3em;box-sizing: border-box;text-align: center;}#sk-container-id-11 label.sk-toggleable__label-arrow:before {content: \"▸\";float: left;margin-right: 0.25em;color: #696969;}#sk-container-id-11 label.sk-toggleable__label-arrow:hover:before {color: black;}#sk-container-id-11 div.sk-estimator:hover label.sk-toggleable__label-arrow:before {color: black;}#sk-container-id-11 div.sk-toggleable__content {max-height: 0;max-width: 0;overflow: hidden;text-align: left;background-color: #f0f8ff;}#sk-container-id-11 div.sk-toggleable__content pre {margin: 0.2em;color: black;border-radius: 0.25em;background-color: #f0f8ff;}#sk-container-id-11 input.sk-toggleable__control:checked~div.sk-toggleable__content {max-height: 200px;max-width: 100%;overflow: auto;}#sk-container-id-11 input.sk-toggleable__control:checked~label.sk-toggleable__label-arrow:before {content: \"▾\";}#sk-container-id-11 div.sk-estimator input.sk-toggleable__control:checked~label.sk-toggleable__label {background-color: #d4ebff;}#sk-container-id-11 div.sk-label input.sk-toggleable__control:checked~label.sk-toggleable__label {background-color: #d4ebff;}#sk-container-id-11 input.sk-hidden--visually {border: 0;clip: rect(1px 1px 1px 1px);clip: rect(1px, 1px, 1px, 1px);height: 1px;margin: -1px;overflow: hidden;padding: 0;position: absolute;width: 1px;}#sk-container-id-11 div.sk-estimator {font-family: monospace;background-color: #f0f8ff;border: 1px dotted black;border-radius: 0.25em;box-sizing: border-box;margin-bottom: 0.5em;}#sk-container-id-11 div.sk-estimator:hover {background-color: #d4ebff;}#sk-container-id-11 div.sk-parallel-item::after {content: \"\";width: 100%;border-bottom: 1px solid gray;flex-grow: 1;}#sk-container-id-11 div.sk-label:hover label.sk-toggleable__label {background-color: #d4ebff;}#sk-container-id-11 div.sk-serial::before {content: \"\";position: absolute;border-left: 1px solid gray;box-sizing: border-box;top: 0;bottom: 0;left: 50%;z-index: 0;}#sk-container-id-11 div.sk-serial {display: flex;flex-direction: column;align-items: center;background-color: white;padding-right: 0.2em;padding-left: 0.2em;position: relative;}#sk-container-id-11 div.sk-item {position: relative;z-index: 1;}#sk-container-id-11 div.sk-parallel {display: flex;align-items: stretch;justify-content: center;background-color: white;position: relative;}#sk-container-id-11 div.sk-item::before, #sk-container-id-11 div.sk-parallel-item::before {content: \"\";position: absolute;border-left: 1px solid gray;box-sizing: border-box;top: 0;bottom: 0;left: 50%;z-index: -1;}#sk-container-id-11 div.sk-parallel-item {display: flex;flex-direction: column;z-index: 1;position: relative;background-color: white;}#sk-container-id-11 div.sk-parallel-item:first-child::after {align-self: flex-end;width: 50%;}#sk-container-id-11 div.sk-parallel-item:last-child::after {align-self: flex-start;width: 50%;}#sk-container-id-11 div.sk-parallel-item:only-child::after {width: 0;}#sk-container-id-11 div.sk-dashed-wrapped {border: 1px dashed gray;margin: 0 0.4em 0.5em 0.4em;box-sizing: border-box;padding-bottom: 0.4em;background-color: white;}#sk-container-id-11 div.sk-label label {font-family: monospace;font-weight: bold;display: inline-block;line-height: 1.2em;}#sk-container-id-11 div.sk-label-container {text-align: center;}#sk-container-id-11 div.sk-container {/* jupyter's `normalize.less` sets `[hidden] { display: none; }` but bootstrap.min.css set `[hidden] { display: none !important; }` so we also need the `!important` here to be able to override the default hidden behavior on the sphinx rendered scikit-learn.org. See: https://github.com/scikit-learn/scikit-learn/issues/21755 */display: inline-block !important;position: relative;}#sk-container-id-11 div.sk-text-repr-fallback {display: none;}</style><div id=\"sk-container-id-11\" class=\"sk-top-container\"><div class=\"sk-text-repr-fallback\"><pre>RandomForestClassifier(criterion=&#x27;log_loss&#x27;, n_estimators=300)</pre><b>In a Jupyter environment, please rerun this cell to show the HTML representation or trust the notebook. <br />On GitHub, the HTML representation is unable to render, please try loading this page with nbviewer.org.</b></div><div class=\"sk-container\" hidden><div class=\"sk-item\"><div class=\"sk-estimator sk-toggleable\"><input class=\"sk-toggleable__control sk-hidden--visually\" id=\"sk-estimator-id-11\" type=\"checkbox\" checked><label for=\"sk-estimator-id-11\" class=\"sk-toggleable__label sk-toggleable__label-arrow\">RandomForestClassifier</label><div class=\"sk-toggleable__content\"><pre>RandomForestClassifier(criterion=&#x27;log_loss&#x27;, n_estimators=300)</pre></div></div></div></div></div>"
      ],
      "text/plain": [
       "RandomForestClassifier(criterion='log_loss', n_estimators=300)"
      ]
     },
     "execution_count": 49,
     "metadata": {},
     "output_type": "execute_result"
    }
   ],
   "source": [
    "rf = RandomForestClassifier(criterion='log_loss', n_estimators=300)\n",
    "rf.fit(X_ros, y_ros)"
   ]
  },
  {
   "cell_type": "code",
   "execution_count": 50,
   "metadata": {},
   "outputs": [
    {
     "name": "stdout",
     "output_type": "stream",
     "text": [
      "Random Forest\n",
      " train accuracy = 99.56393388988629%\n",
      "test accuracy = 98.73301124856648%\n",
      "              precision    recall  f1-score   support\n",
      "\n",
      "           0       1.00      0.99      0.99    162345\n",
      "           1       0.38      0.51      0.44      1587\n",
      "\n",
      "    accuracy                           0.99    163932\n",
      "   macro avg       0.69      0.75      0.72    163932\n",
      "weighted avg       0.99      0.99      0.99    163932\n",
      "\n",
      "Confusion Matrix\n",
      "[[161043   1302]\n",
      " [   775    812]]\n"
     ]
    }
   ],
   "source": [
    "print('Random Forest')\n",
    "y_pred = rf.predict(X_ros)\n",
    "acc = metrics.accuracy_score(y_ros,y_pred)\n",
    "print (' train accuracy = '+str(acc*100)+'%')\n",
    "y_pred = rf.predict(X_test)\n",
    "acc = metrics.accuracy_score(y_test,y_pred)\n",
    "print ('test accuracy = '+str(acc*100)+'%')\n",
    "print (metrics.classification_report(y_test,y_pred))\n",
    "print(\"Confusion Matrix\")\n",
    "print(metrics.confusion_matrix(y_test,y_pred))"
   ]
  }
 ],
 "metadata": {
  "kernelspec": {
   "display_name": "base",
   "language": "python",
   "name": "python3"
  },
  "language_info": {
   "codemirror_mode": {
    "name": "ipython",
    "version": 3
   },
   "file_extension": ".py",
   "mimetype": "text/x-python",
   "name": "python",
   "nbconvert_exporter": "python",
   "pygments_lexer": "ipython3",
   "version": "3.10.9"
  },
  "orig_nbformat": 4
 },
 "nbformat": 4,
 "nbformat_minor": 2
}
